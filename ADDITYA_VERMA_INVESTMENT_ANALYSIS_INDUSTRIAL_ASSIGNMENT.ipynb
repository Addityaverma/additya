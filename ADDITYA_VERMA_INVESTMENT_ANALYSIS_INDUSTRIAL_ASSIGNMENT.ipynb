{
 "cells": [
  {
   "cell_type": "markdown",
   "metadata": {},
   "source": [
    "# importing necessary libraries"
   ]
  },
  {
   "cell_type": "code",
   "execution_count": 1,
   "metadata": {},
   "outputs": [],
   "source": [
    "import pandas as pd\n",
    "import numpy as np\n",
    "import matplotlib.pyplot as plt\n",
    "import seaborn as sb\n",
    "import warnings\n",
    "warnings.filterwarnings('ignore')"
   ]
  },
  {
   "cell_type": "markdown",
   "metadata": {},
   "source": [
    "## Fetching Datasets"
   ]
  },
  {
   "cell_type": "code",
   "execution_count": 2,
   "metadata": {},
   "outputs": [],
   "source": [
    "companies = pd.read_csv(\"companies.txt\",encoding='ISO-8859-1',sep = '\\t')\n",
    "rounds2 = pd.read_csv(\"rounds2.csv\",encoding = 'ISO-8859-1')"
   ]
  },
  {
   "cell_type": "markdown",
   "metadata": {},
   "source": [
    "### viewing data"
   ]
  },
  {
   "cell_type": "code",
   "execution_count": 3,
   "metadata": {},
   "outputs": [
    {
     "data": {
      "text/html": [
       "<div>\n",
       "<style scoped>\n",
       "    .dataframe tbody tr th:only-of-type {\n",
       "        vertical-align: middle;\n",
       "    }\n",
       "\n",
       "    .dataframe tbody tr th {\n",
       "        vertical-align: top;\n",
       "    }\n",
       "\n",
       "    .dataframe thead th {\n",
       "        text-align: right;\n",
       "    }\n",
       "</style>\n",
       "<table border=\"1\" class=\"dataframe\">\n",
       "  <thead>\n",
       "    <tr style=\"text-align: right;\">\n",
       "      <th></th>\n",
       "      <th>permalink</th>\n",
       "      <th>name</th>\n",
       "      <th>homepage_url</th>\n",
       "      <th>category_list</th>\n",
       "      <th>status</th>\n",
       "      <th>country_code</th>\n",
       "      <th>state_code</th>\n",
       "      <th>region</th>\n",
       "      <th>city</th>\n",
       "      <th>founded_at</th>\n",
       "    </tr>\n",
       "  </thead>\n",
       "  <tbody>\n",
       "    <tr>\n",
       "      <th>0</th>\n",
       "      <td>/Organization/-Fame</td>\n",
       "      <td>#fame</td>\n",
       "      <td>http://livfame.com</td>\n",
       "      <td>Media</td>\n",
       "      <td>operating</td>\n",
       "      <td>IND</td>\n",
       "      <td>16</td>\n",
       "      <td>Mumbai</td>\n",
       "      <td>Mumbai</td>\n",
       "      <td>NaN</td>\n",
       "    </tr>\n",
       "    <tr>\n",
       "      <th>1</th>\n",
       "      <td>/Organization/-Qounter</td>\n",
       "      <td>:Qounter</td>\n",
       "      <td>http://www.qounter.com</td>\n",
       "      <td>Application Platforms|Real Time|Social Network...</td>\n",
       "      <td>operating</td>\n",
       "      <td>USA</td>\n",
       "      <td>DE</td>\n",
       "      <td>DE - Other</td>\n",
       "      <td>Delaware City</td>\n",
       "      <td>04-09-2014</td>\n",
       "    </tr>\n",
       "    <tr>\n",
       "      <th>2</th>\n",
       "      <td>/Organization/-The-One-Of-Them-Inc-</td>\n",
       "      <td>(THE) ONE of THEM,Inc.</td>\n",
       "      <td>http://oneofthem.jp</td>\n",
       "      <td>Apps|Games|Mobile</td>\n",
       "      <td>operating</td>\n",
       "      <td>NaN</td>\n",
       "      <td>NaN</td>\n",
       "      <td>NaN</td>\n",
       "      <td>NaN</td>\n",
       "      <td>NaN</td>\n",
       "    </tr>\n",
       "    <tr>\n",
       "      <th>3</th>\n",
       "      <td>/Organization/0-6-Com</td>\n",
       "      <td>0-6.com</td>\n",
       "      <td>http://www.0-6.com</td>\n",
       "      <td>Curated Web</td>\n",
       "      <td>operating</td>\n",
       "      <td>CHN</td>\n",
       "      <td>22</td>\n",
       "      <td>Beijing</td>\n",
       "      <td>Beijing</td>\n",
       "      <td>01-01-2007</td>\n",
       "    </tr>\n",
       "    <tr>\n",
       "      <th>4</th>\n",
       "      <td>/Organization/004-Technologies</td>\n",
       "      <td>004 Technologies</td>\n",
       "      <td>http://004gmbh.de/en/004-interact</td>\n",
       "      <td>Software</td>\n",
       "      <td>operating</td>\n",
       "      <td>USA</td>\n",
       "      <td>IL</td>\n",
       "      <td>Springfield, Illinois</td>\n",
       "      <td>Champaign</td>\n",
       "      <td>01-01-2010</td>\n",
       "    </tr>\n",
       "  </tbody>\n",
       "</table>\n",
       "</div>"
      ],
      "text/plain": [
       "                             permalink                    name  \\\n",
       "0                  /Organization/-Fame                   #fame   \n",
       "1               /Organization/-Qounter                :Qounter   \n",
       "2  /Organization/-The-One-Of-Them-Inc-  (THE) ONE of THEM,Inc.   \n",
       "3                /Organization/0-6-Com                 0-6.com   \n",
       "4       /Organization/004-Technologies        004 Technologies   \n",
       "\n",
       "                        homepage_url  \\\n",
       "0                 http://livfame.com   \n",
       "1             http://www.qounter.com   \n",
       "2                http://oneofthem.jp   \n",
       "3                 http://www.0-6.com   \n",
       "4  http://004gmbh.de/en/004-interact   \n",
       "\n",
       "                                       category_list     status country_code  \\\n",
       "0                                              Media  operating          IND   \n",
       "1  Application Platforms|Real Time|Social Network...  operating          USA   \n",
       "2                                  Apps|Games|Mobile  operating          NaN   \n",
       "3                                        Curated Web  operating          CHN   \n",
       "4                                           Software  operating          USA   \n",
       "\n",
       "  state_code                 region           city  founded_at  \n",
       "0         16                 Mumbai         Mumbai         NaN  \n",
       "1         DE             DE - Other  Delaware City  04-09-2014  \n",
       "2        NaN                    NaN            NaN         NaN  \n",
       "3         22                Beijing        Beijing  01-01-2007  \n",
       "4         IL  Springfield, Illinois      Champaign  01-01-2010  "
      ]
     },
     "execution_count": 3,
     "metadata": {},
     "output_type": "execute_result"
    }
   ],
   "source": [
    "companies.head()"
   ]
  },
  {
   "cell_type": "code",
   "execution_count": 4,
   "metadata": {},
   "outputs": [
    {
     "data": {
      "text/html": [
       "<div>\n",
       "<style scoped>\n",
       "    .dataframe tbody tr th:only-of-type {\n",
       "        vertical-align: middle;\n",
       "    }\n",
       "\n",
       "    .dataframe tbody tr th {\n",
       "        vertical-align: top;\n",
       "    }\n",
       "\n",
       "    .dataframe thead th {\n",
       "        text-align: right;\n",
       "    }\n",
       "</style>\n",
       "<table border=\"1\" class=\"dataframe\">\n",
       "  <thead>\n",
       "    <tr style=\"text-align: right;\">\n",
       "      <th></th>\n",
       "      <th>company_permalink</th>\n",
       "      <th>funding_round_permalink</th>\n",
       "      <th>funding_round_type</th>\n",
       "      <th>funding_round_code</th>\n",
       "      <th>funded_at</th>\n",
       "      <th>raised_amount_usd</th>\n",
       "    </tr>\n",
       "  </thead>\n",
       "  <tbody>\n",
       "    <tr>\n",
       "      <th>0</th>\n",
       "      <td>/organization/-fame</td>\n",
       "      <td>/funding-round/9a01d05418af9f794eebff7ace91f638</td>\n",
       "      <td>venture</td>\n",
       "      <td>B</td>\n",
       "      <td>05-01-2015</td>\n",
       "      <td>10000000.0</td>\n",
       "    </tr>\n",
       "    <tr>\n",
       "      <th>1</th>\n",
       "      <td>/ORGANIZATION/-QOUNTER</td>\n",
       "      <td>/funding-round/22dacff496eb7acb2b901dec1dfe5633</td>\n",
       "      <td>venture</td>\n",
       "      <td>A</td>\n",
       "      <td>14-10-2014</td>\n",
       "      <td>NaN</td>\n",
       "    </tr>\n",
       "    <tr>\n",
       "      <th>2</th>\n",
       "      <td>/organization/-qounter</td>\n",
       "      <td>/funding-round/b44fbb94153f6cdef13083530bb48030</td>\n",
       "      <td>seed</td>\n",
       "      <td>NaN</td>\n",
       "      <td>01-03-2014</td>\n",
       "      <td>700000.0</td>\n",
       "    </tr>\n",
       "    <tr>\n",
       "      <th>3</th>\n",
       "      <td>/ORGANIZATION/-THE-ONE-OF-THEM-INC-</td>\n",
       "      <td>/funding-round/650b8f704416801069bb178a1418776b</td>\n",
       "      <td>venture</td>\n",
       "      <td>B</td>\n",
       "      <td>30-01-2014</td>\n",
       "      <td>3406878.0</td>\n",
       "    </tr>\n",
       "    <tr>\n",
       "      <th>4</th>\n",
       "      <td>/organization/0-6-com</td>\n",
       "      <td>/funding-round/5727accaeaa57461bd22a9bdd945382d</td>\n",
       "      <td>venture</td>\n",
       "      <td>A</td>\n",
       "      <td>19-03-2008</td>\n",
       "      <td>2000000.0</td>\n",
       "    </tr>\n",
       "  </tbody>\n",
       "</table>\n",
       "</div>"
      ],
      "text/plain": [
       "                     company_permalink  \\\n",
       "0                  /organization/-fame   \n",
       "1               /ORGANIZATION/-QOUNTER   \n",
       "2               /organization/-qounter   \n",
       "3  /ORGANIZATION/-THE-ONE-OF-THEM-INC-   \n",
       "4                /organization/0-6-com   \n",
       "\n",
       "                           funding_round_permalink funding_round_type  \\\n",
       "0  /funding-round/9a01d05418af9f794eebff7ace91f638            venture   \n",
       "1  /funding-round/22dacff496eb7acb2b901dec1dfe5633            venture   \n",
       "2  /funding-round/b44fbb94153f6cdef13083530bb48030               seed   \n",
       "3  /funding-round/650b8f704416801069bb178a1418776b            venture   \n",
       "4  /funding-round/5727accaeaa57461bd22a9bdd945382d            venture   \n",
       "\n",
       "  funding_round_code   funded_at  raised_amount_usd  \n",
       "0                  B  05-01-2015         10000000.0  \n",
       "1                  A  14-10-2014                NaN  \n",
       "2                NaN  01-03-2014           700000.0  \n",
       "3                  B  30-01-2014          3406878.0  \n",
       "4                  A  19-03-2008          2000000.0  "
      ]
     },
     "execution_count": 4,
     "metadata": {},
     "output_type": "execute_result"
    }
   ],
   "source": [
    "rounds2.head()"
   ]
  },
  {
   "cell_type": "markdown",
   "metadata": {},
   "source": [
    "### checking for type of data in both the datasets"
   ]
  },
  {
   "cell_type": "code",
   "execution_count": 5,
   "metadata": {},
   "outputs": [
    {
     "name": "stdout",
     "output_type": "stream",
     "text": [
      "<class 'pandas.core.frame.DataFrame'>\n",
      "RangeIndex: 66368 entries, 0 to 66367\n",
      "Data columns (total 10 columns):\n",
      "permalink        66368 non-null object\n",
      "name             66367 non-null object\n",
      "homepage_url     61310 non-null object\n",
      "category_list    63220 non-null object\n",
      "status           66368 non-null object\n",
      "country_code     59410 non-null object\n",
      "state_code       57821 non-null object\n",
      "region           58338 non-null object\n",
      "city             58340 non-null object\n",
      "founded_at       51147 non-null object\n",
      "dtypes: object(10)\n",
      "memory usage: 5.1+ MB\n"
     ]
    }
   ],
   "source": [
    "companies.info()"
   ]
  },
  {
   "cell_type": "code",
   "execution_count": 6,
   "metadata": {},
   "outputs": [
    {
     "name": "stdout",
     "output_type": "stream",
     "text": [
      "<class 'pandas.core.frame.DataFrame'>\n",
      "RangeIndex: 114949 entries, 0 to 114948\n",
      "Data columns (total 6 columns):\n",
      "company_permalink          114949 non-null object\n",
      "funding_round_permalink    114949 non-null object\n",
      "funding_round_type         114949 non-null object\n",
      "funding_round_code         31140 non-null object\n",
      "funded_at                  114949 non-null object\n",
      "raised_amount_usd          94959 non-null float64\n",
      "dtypes: float64(1), object(5)\n",
      "memory usage: 5.3+ MB\n"
     ]
    }
   ],
   "source": [
    "rounds2.info()"
   ]
  },
  {
   "cell_type": "code",
   "execution_count": 7,
   "metadata": {},
   "outputs": [
    {
     "data": {
      "text/plain": [
       "permalink         0.000000\n",
       "name              0.001507\n",
       "homepage_url      7.621143\n",
       "category_list     4.743250\n",
       "status            0.000000\n",
       "country_code     10.483968\n",
       "state_code       12.878194\n",
       "region           12.099204\n",
       "city             12.096191\n",
       "founded_at       22.934245\n",
       "dtype: float64"
      ]
     },
     "execution_count": 7,
     "metadata": {},
     "output_type": "execute_result"
    }
   ],
   "source": [
    "#checking null data in companies dataset\n",
    "100*((companies.isnull().sum())/len(companies.index))"
   ]
  },
  {
   "cell_type": "code",
   "execution_count": 8,
   "metadata": {},
   "outputs": [],
   "source": [
    "# taking rows that have less than 5 empty columns\n",
    "companies = companies[companies.isnull().sum(axis=1)<=4]"
   ]
  },
  {
   "cell_type": "code",
   "execution_count": 9,
   "metadata": {},
   "outputs": [],
   "source": [
    "# dropping duplicate rows\n",
    "companies.drop_duplicates(inplace = True)"
   ]
  },
  {
   "cell_type": "markdown",
   "metadata": {},
   "source": [
    "## dropping NULL values as data cant be imputed"
   ]
  },
  {
   "cell_type": "code",
   "execution_count": 10,
   "metadata": {},
   "outputs": [],
   "source": [
    "companies.dropna(inplace = True)"
   ]
  },
  {
   "cell_type": "code",
   "execution_count": 11,
   "metadata": {},
   "outputs": [
    {
     "data": {
      "text/plain": [
       "company_permalink           0.000000\n",
       "funding_round_permalink     0.000000\n",
       "funding_round_type          0.000000\n",
       "funding_round_code         72.909725\n",
       "funded_at                   0.000000\n",
       "raised_amount_usd          17.390321\n",
       "dtype: float64"
      ]
     },
     "execution_count": 11,
     "metadata": {},
     "output_type": "execute_result"
    }
   ],
   "source": [
    "100*((rounds2.isnull().sum())/len(rounds2.index))"
   ]
  },
  {
   "cell_type": "code",
   "execution_count": 12,
   "metadata": {},
   "outputs": [],
   "source": [
    "# dropping funding_round_code as it has 73% null data\n",
    "rounds2.drop('funding_round_code',axis = 1,inplace =True)"
   ]
  },
  {
   "cell_type": "code",
   "execution_count": 13,
   "metadata": {},
   "outputs": [
    {
     "name": "stdout",
     "output_type": "stream",
     "text": [
      "<class 'pandas.core.frame.DataFrame'>\n",
      "RangeIndex: 114949 entries, 0 to 114948\n",
      "Data columns (total 5 columns):\n",
      "company_permalink          114949 non-null object\n",
      "funding_round_permalink    114949 non-null object\n",
      "funding_round_type         114949 non-null object\n",
      "funded_at                  114949 non-null object\n",
      "raised_amount_usd          94959 non-null float64\n",
      "dtypes: float64(1), object(4)\n",
      "memory usage: 4.4+ MB\n"
     ]
    }
   ],
   "source": [
    "rounds2.info()"
   ]
  },
  {
   "cell_type": "code",
   "execution_count": 14,
   "metadata": {},
   "outputs": [],
   "source": [
    "# dropping rows with null data\n",
    "rounds2.dropna(inplace = True)"
   ]
  },
  {
   "cell_type": "markdown",
   "metadata": {},
   "source": [
    "# CHECKPOINT 1 "
   ]
  },
  {
   "cell_type": "code",
   "execution_count": 15,
   "metadata": {},
   "outputs": [
    {
     "data": {
      "text/plain": [
       "53915"
      ]
     },
     "execution_count": 15,
     "metadata": {},
     "output_type": "execute_result"
    }
   ],
   "source": [
    "rounds2.company_permalink.str.lower().nunique()"
   ]
  },
  {
   "cell_type": "code",
   "execution_count": 16,
   "metadata": {},
   "outputs": [
    {
     "name": "stdout",
     "output_type": "stream",
     "text": [
      "43000\n",
      "42875\n"
     ]
    }
   ],
   "source": [
    "print(companies.permalink.str.lower().nunique())\n",
    "print(companies.name.str.lower().nunique())"
   ]
  },
  {
   "cell_type": "code",
   "execution_count": 17,
   "metadata": {},
   "outputs": [
    {
     "data": {
      "text/plain": [
       "permalink        43000\n",
       "name             42898\n",
       "homepage_url     42949\n",
       "category_list    20600\n",
       "status               4\n",
       "country_code       108\n",
       "state_code         287\n",
       "region             988\n",
       "city              4009\n",
       "founded_at        3662\n",
       "dtype: int64"
      ]
     },
     "execution_count": 17,
     "metadata": {},
     "output_type": "execute_result"
    }
   ],
   "source": [
    "companies.nunique()"
   ]
  },
  {
   "cell_type": "code",
   "execution_count": 18,
   "metadata": {},
   "outputs": [],
   "source": [
    "rounds2.company_permalink = rounds2.company_permalink.str.lower()\n",
    "companies.permalink = companies.permalink.str.lower()"
   ]
  },
  {
   "cell_type": "code",
   "execution_count": 19,
   "metadata": {},
   "outputs": [],
   "source": [
    "a = companies.permalink.unique()\n",
    "b = rounds2.company_permalink.unique()"
   ]
  },
  {
   "cell_type": "code",
   "execution_count": 20,
   "metadata": {},
   "outputs": [],
   "source": [
    "a = a.tolist()\n",
    "b = b.tolist()"
   ]
  },
  {
   "cell_type": "code",
   "execution_count": 21,
   "metadata": {},
   "outputs": [
    {
     "data": {
      "text/plain": [
       "False"
      ]
     },
     "execution_count": 21,
     "metadata": {},
     "output_type": "execute_result"
    }
   ],
   "source": [
    "b in a"
   ]
  },
  {
   "cell_type": "markdown",
   "metadata": {},
   "source": [
    "## merging the two dataframe into master_df"
   ]
  },
  {
   "cell_type": "code",
   "execution_count": 22,
   "metadata": {},
   "outputs": [],
   "source": [
    "master_df = pd.merge(companies,rounds2,left_on = companies.permalink,right_on = rounds2.company_permalink)"
   ]
  },
  {
   "cell_type": "code",
   "execution_count": 23,
   "metadata": {},
   "outputs": [
    {
     "data": {
      "text/plain": [
       "key_0                      0\n",
       "permalink                  0\n",
       "name                       0\n",
       "homepage_url               0\n",
       "category_list              0\n",
       "status                     0\n",
       "country_code               0\n",
       "state_code                 0\n",
       "region                     0\n",
       "city                       0\n",
       "founded_at                 0\n",
       "company_permalink          0\n",
       "funding_round_permalink    0\n",
       "funding_round_type         0\n",
       "funded_at                  0\n",
       "raised_amount_usd          0\n",
       "dtype: int64"
      ]
     },
     "execution_count": 23,
     "metadata": {},
     "output_type": "execute_result"
    }
   ],
   "source": [
    " master_df.isnull().sum()"
   ]
  },
  {
   "cell_type": "code",
   "execution_count": 24,
   "metadata": {},
   "outputs": [
    {
     "name": "stdout",
     "output_type": "stream",
     "text": [
      "<class 'pandas.core.frame.DataFrame'>\n",
      "Int64Index: 71580 entries, 0 to 71579\n",
      "Data columns (total 16 columns):\n",
      "key_0                      71580 non-null object\n",
      "permalink                  71580 non-null object\n",
      "name                       71580 non-null object\n",
      "homepage_url               71580 non-null object\n",
      "category_list              71580 non-null object\n",
      "status                     71580 non-null object\n",
      "country_code               71580 non-null object\n",
      "state_code                 71580 non-null object\n",
      "region                     71580 non-null object\n",
      "city                       71580 non-null object\n",
      "founded_at                 71580 non-null object\n",
      "company_permalink          71580 non-null object\n",
      "funding_round_permalink    71580 non-null object\n",
      "funding_round_type         71580 non-null object\n",
      "funded_at                  71580 non-null object\n",
      "raised_amount_usd          71580 non-null float64\n",
      "dtypes: float64(1), object(15)\n",
      "memory usage: 9.3+ MB\n"
     ]
    }
   ],
   "source": [
    "master_df.info()"
   ]
  },
  {
   "cell_type": "code",
   "execution_count": 25,
   "metadata": {},
   "outputs": [],
   "source": [
    "#dropping company_permalink column as it is duplicate column\n",
    "master_df.drop('company_permalink',axis =1,inplace = True)"
   ]
  },
  {
   "cell_type": "code",
   "execution_count": 26,
   "metadata": {},
   "outputs": [],
   "source": [
    "# dropping columns with irrelevant data\n",
    "master_df.drop(['key_0','state_code','city','region'],axis =1,inplace = True)"
   ]
  },
  {
   "cell_type": "code",
   "execution_count": 27,
   "metadata": {},
   "outputs": [
    {
     "data": {
      "text/html": [
       "<div>\n",
       "<style scoped>\n",
       "    .dataframe tbody tr th:only-of-type {\n",
       "        vertical-align: middle;\n",
       "    }\n",
       "\n",
       "    .dataframe tbody tr th {\n",
       "        vertical-align: top;\n",
       "    }\n",
       "\n",
       "    .dataframe thead th {\n",
       "        text-align: right;\n",
       "    }\n",
       "</style>\n",
       "<table border=\"1\" class=\"dataframe\">\n",
       "  <thead>\n",
       "    <tr style=\"text-align: right;\">\n",
       "      <th></th>\n",
       "      <th>permalink</th>\n",
       "      <th>name</th>\n",
       "      <th>homepage_url</th>\n",
       "      <th>category_list</th>\n",
       "      <th>status</th>\n",
       "      <th>country_code</th>\n",
       "      <th>founded_at</th>\n",
       "      <th>funding_round_permalink</th>\n",
       "      <th>funding_round_type</th>\n",
       "      <th>funded_at</th>\n",
       "      <th>raised_amount_usd</th>\n",
       "    </tr>\n",
       "  </thead>\n",
       "  <tbody>\n",
       "    <tr>\n",
       "      <th>0</th>\n",
       "      <td>/organization/-qounter</td>\n",
       "      <td>:Qounter</td>\n",
       "      <td>http://www.qounter.com</td>\n",
       "      <td>Application Platforms|Real Time|Social Network...</td>\n",
       "      <td>operating</td>\n",
       "      <td>USA</td>\n",
       "      <td>04-09-2014</td>\n",
       "      <td>/funding-round/b44fbb94153f6cdef13083530bb48030</td>\n",
       "      <td>seed</td>\n",
       "      <td>01-03-2014</td>\n",
       "      <td>700000.0</td>\n",
       "    </tr>\n",
       "    <tr>\n",
       "      <th>1</th>\n",
       "      <td>/organization/0-6-com</td>\n",
       "      <td>0-6.com</td>\n",
       "      <td>http://www.0-6.com</td>\n",
       "      <td>Curated Web</td>\n",
       "      <td>operating</td>\n",
       "      <td>CHN</td>\n",
       "      <td>01-01-2007</td>\n",
       "      <td>/funding-round/5727accaeaa57461bd22a9bdd945382d</td>\n",
       "      <td>venture</td>\n",
       "      <td>19-03-2008</td>\n",
       "      <td>2000000.0</td>\n",
       "    </tr>\n",
       "    <tr>\n",
       "      <th>2</th>\n",
       "      <td>/organization/0ndine-biomedical-inc</td>\n",
       "      <td>Ondine Biomedical Inc.</td>\n",
       "      <td>http://ondinebio.com</td>\n",
       "      <td>Biotechnology</td>\n",
       "      <td>operating</td>\n",
       "      <td>CAN</td>\n",
       "      <td>01-01-1997</td>\n",
       "      <td>/funding-round/2b9d3ac293d5cdccbecff5c8cb0f327d</td>\n",
       "      <td>seed</td>\n",
       "      <td>11-09-2009</td>\n",
       "      <td>43360.0</td>\n",
       "    </tr>\n",
       "    <tr>\n",
       "      <th>3</th>\n",
       "      <td>/organization/0ndine-biomedical-inc</td>\n",
       "      <td>Ondine Biomedical Inc.</td>\n",
       "      <td>http://ondinebio.com</td>\n",
       "      <td>Biotechnology</td>\n",
       "      <td>operating</td>\n",
       "      <td>CAN</td>\n",
       "      <td>01-01-1997</td>\n",
       "      <td>/funding-round/954b9499724b946ad8c396a57a5f3b72</td>\n",
       "      <td>venture</td>\n",
       "      <td>21-12-2009</td>\n",
       "      <td>719491.0</td>\n",
       "    </tr>\n",
       "    <tr>\n",
       "      <th>4</th>\n",
       "      <td>/organization/0xdata</td>\n",
       "      <td>H2O.ai</td>\n",
       "      <td>http://h2o.ai/</td>\n",
       "      <td>Analytics</td>\n",
       "      <td>operating</td>\n",
       "      <td>USA</td>\n",
       "      <td>01-01-2011</td>\n",
       "      <td>/funding-round/383a9bd2c04f7038bb543ccef5ba3eae</td>\n",
       "      <td>seed</td>\n",
       "      <td>22-05-2013</td>\n",
       "      <td>3000000.0</td>\n",
       "    </tr>\n",
       "  </tbody>\n",
       "</table>\n",
       "</div>"
      ],
      "text/plain": [
       "                             permalink                    name  \\\n",
       "0               /organization/-qounter                :Qounter   \n",
       "1                /organization/0-6-com                 0-6.com   \n",
       "2  /organization/0ndine-biomedical-inc  Ondine Biomedical Inc.   \n",
       "3  /organization/0ndine-biomedical-inc  Ondine Biomedical Inc.   \n",
       "4                 /organization/0xdata                  H2O.ai   \n",
       "\n",
       "             homepage_url                                      category_list  \\\n",
       "0  http://www.qounter.com  Application Platforms|Real Time|Social Network...   \n",
       "1      http://www.0-6.com                                        Curated Web   \n",
       "2    http://ondinebio.com                                      Biotechnology   \n",
       "3    http://ondinebio.com                                      Biotechnology   \n",
       "4          http://h2o.ai/                                          Analytics   \n",
       "\n",
       "      status country_code  founded_at  \\\n",
       "0  operating          USA  04-09-2014   \n",
       "1  operating          CHN  01-01-2007   \n",
       "2  operating          CAN  01-01-1997   \n",
       "3  operating          CAN  01-01-1997   \n",
       "4  operating          USA  01-01-2011   \n",
       "\n",
       "                           funding_round_permalink funding_round_type  \\\n",
       "0  /funding-round/b44fbb94153f6cdef13083530bb48030               seed   \n",
       "1  /funding-round/5727accaeaa57461bd22a9bdd945382d            venture   \n",
       "2  /funding-round/2b9d3ac293d5cdccbecff5c8cb0f327d               seed   \n",
       "3  /funding-round/954b9499724b946ad8c396a57a5f3b72            venture   \n",
       "4  /funding-round/383a9bd2c04f7038bb543ccef5ba3eae               seed   \n",
       "\n",
       "    funded_at  raised_amount_usd  \n",
       "0  01-03-2014           700000.0  \n",
       "1  19-03-2008          2000000.0  \n",
       "2  11-09-2009            43360.0  \n",
       "3  21-12-2009           719491.0  \n",
       "4  22-05-2013          3000000.0  "
      ]
     },
     "execution_count": 27,
     "metadata": {},
     "output_type": "execute_result"
    }
   ],
   "source": [
    "master_df.head()"
   ]
  },
  {
   "cell_type": "markdown",
   "metadata": {},
   "source": [
    "# CHECKPOINT 2"
   ]
  },
  {
   "cell_type": "markdown",
   "metadata": {},
   "source": [
    "## fetching data of countires where english is primary language"
   ]
  },
  {
   "cell_type": "code",
   "execution_count": 28,
   "metadata": {},
   "outputs": [],
   "source": [
    "eng_speaking_countires = pd.read_html('https://en.wikipedia.org/wiki/List_of_territorial_entities_where_English_is_an_official_language')"
   ]
  },
  {
   "cell_type": "code",
   "execution_count": 29,
   "metadata": {},
   "outputs": [],
   "source": [
    "eng_speaking_countires = eng_speaking_countires[0].append([eng_speaking_countires[1] for i in (0,len(eng_speaking_countires)+1)])"
   ]
  },
  {
   "cell_type": "code",
   "execution_count": 30,
   "metadata": {},
   "outputs": [
    {
     "data": {
      "text/html": [
       "<div>\n",
       "<style scoped>\n",
       "    .dataframe tbody tr th:only-of-type {\n",
       "        vertical-align: middle;\n",
       "    }\n",
       "\n",
       "    .dataframe tbody tr th {\n",
       "        vertical-align: top;\n",
       "    }\n",
       "\n",
       "    .dataframe thead th {\n",
       "        text-align: right;\n",
       "    }\n",
       "</style>\n",
       "<table border=\"1\" class=\"dataframe\">\n",
       "  <thead>\n",
       "    <tr style=\"text-align: right;\">\n",
       "      <th></th>\n",
       "      <th>Alpha-3 code</th>\n",
       "      <th>Country</th>\n",
       "      <th>Nr</th>\n",
       "      <th>Population</th>\n",
       "      <th>Population1</th>\n",
       "      <th>Primary language?</th>\n",
       "      <th>Region</th>\n",
       "    </tr>\n",
       "  </thead>\n",
       "  <tbody>\n",
       "    <tr>\n",
       "      <th>0</th>\n",
       "      <td>AUS</td>\n",
       "      <td>Australia</td>\n",
       "      <td>1</td>\n",
       "      <td>25019600.0</td>\n",
       "      <td>NaN</td>\n",
       "      <td>Yes</td>\n",
       "      <td>Oceania</td>\n",
       "    </tr>\n",
       "    <tr>\n",
       "      <th>1</th>\n",
       "      <td>NZL</td>\n",
       "      <td>New Zealand[1]</td>\n",
       "      <td>2</td>\n",
       "      <td>4893830.0</td>\n",
       "      <td>NaN</td>\n",
       "      <td>Yes</td>\n",
       "      <td>Oceania</td>\n",
       "    </tr>\n",
       "    <tr>\n",
       "      <th>2</th>\n",
       "      <td>GBR</td>\n",
       "      <td>United Kingdom</td>\n",
       "      <td>3</td>\n",
       "      <td>66040229.0</td>\n",
       "      <td>NaN</td>\n",
       "      <td>Yes</td>\n",
       "      <td>Europe</td>\n",
       "    </tr>\n",
       "    <tr>\n",
       "      <th>3</th>\n",
       "      <td>USA</td>\n",
       "      <td>United States</td>\n",
       "      <td>4</td>\n",
       "      <td>328239523.0</td>\n",
       "      <td>NaN</td>\n",
       "      <td>Yes</td>\n",
       "      <td>North America/Oceania</td>\n",
       "    </tr>\n",
       "    <tr>\n",
       "      <th>0</th>\n",
       "      <td>ATG</td>\n",
       "      <td>Antigua and Barbuda[2]</td>\n",
       "      <td>1</td>\n",
       "      <td>NaN</td>\n",
       "      <td>85000</td>\n",
       "      <td>Yes</td>\n",
       "      <td>Caribbean</td>\n",
       "    </tr>\n",
       "  </tbody>\n",
       "</table>\n",
       "</div>"
      ],
      "text/plain": [
       "  Alpha-3 code                 Country  Nr   Population Population1  \\\n",
       "0          AUS               Australia   1   25019600.0         NaN   \n",
       "1          NZL          New Zealand[1]   2    4893830.0         NaN   \n",
       "2          GBR          United Kingdom   3   66040229.0         NaN   \n",
       "3          USA           United States   4  328239523.0         NaN   \n",
       "0          ATG  Antigua and Barbuda[2]   1          NaN       85000   \n",
       "\n",
       "  Primary language?                 Region  \n",
       "0               Yes                Oceania  \n",
       "1               Yes                Oceania  \n",
       "2               Yes                 Europe  \n",
       "3               Yes  North America/Oceania  \n",
       "0               Yes              Caribbean  "
      ]
     },
     "execution_count": 30,
     "metadata": {},
     "output_type": "execute_result"
    }
   ],
   "source": [
    "eng_speaking_countires = pd.DataFrame(eng_speaking_countires)\n",
    "eng_speaking_countires.head()"
   ]
  },
  {
   "cell_type": "code",
   "execution_count": 31,
   "metadata": {},
   "outputs": [],
   "source": [
    "eng_speaking_countires = eng_speaking_countires[eng_speaking_countires['Primary language?'] != 'No']"
   ]
  },
  {
   "cell_type": "markdown",
   "metadata": {},
   "source": [
    "## Handling Junk data"
   ]
  },
  {
   "cell_type": "code",
   "execution_count": 32,
   "metadata": {},
   "outputs": [],
   "source": [
    "master_df['permalink'] = master_df['permalink'].apply(lambda x:x.encode('utf-8').decode('ascii','ignore'))"
   ]
  },
  {
   "cell_type": "code",
   "execution_count": 33,
   "metadata": {},
   "outputs": [
    {
     "data": {
      "text/html": [
       "<div>\n",
       "<style scoped>\n",
       "    .dataframe tbody tr th:only-of-type {\n",
       "        vertical-align: middle;\n",
       "    }\n",
       "\n",
       "    .dataframe tbody tr th {\n",
       "        vertical-align: top;\n",
       "    }\n",
       "\n",
       "    .dataframe thead th {\n",
       "        text-align: right;\n",
       "    }\n",
       "</style>\n",
       "<table border=\"1\" class=\"dataframe\">\n",
       "  <thead>\n",
       "    <tr style=\"text-align: right;\">\n",
       "      <th></th>\n",
       "      <th>permalink</th>\n",
       "      <th>name</th>\n",
       "      <th>homepage_url</th>\n",
       "      <th>category_list</th>\n",
       "      <th>status</th>\n",
       "      <th>country_code</th>\n",
       "      <th>founded_at</th>\n",
       "      <th>funding_round_permalink</th>\n",
       "      <th>funding_round_type</th>\n",
       "      <th>funded_at</th>\n",
       "      <th>raised_amount_usd</th>\n",
       "    </tr>\n",
       "  </thead>\n",
       "  <tbody>\n",
       "    <tr>\n",
       "      <th>0</th>\n",
       "      <td>/organization/-qounter</td>\n",
       "      <td>:Qounter</td>\n",
       "      <td>http://www.qounter.com</td>\n",
       "      <td>Application Platforms|Real Time|Social Network...</td>\n",
       "      <td>operating</td>\n",
       "      <td>USA</td>\n",
       "      <td>04-09-2014</td>\n",
       "      <td>/funding-round/b44fbb94153f6cdef13083530bb48030</td>\n",
       "      <td>seed</td>\n",
       "      <td>01-03-2014</td>\n",
       "      <td>700000.0</td>\n",
       "    </tr>\n",
       "    <tr>\n",
       "      <th>1</th>\n",
       "      <td>/organization/0-6-com</td>\n",
       "      <td>0-6.com</td>\n",
       "      <td>http://www.0-6.com</td>\n",
       "      <td>Curated Web</td>\n",
       "      <td>operating</td>\n",
       "      <td>CHN</td>\n",
       "      <td>01-01-2007</td>\n",
       "      <td>/funding-round/5727accaeaa57461bd22a9bdd945382d</td>\n",
       "      <td>venture</td>\n",
       "      <td>19-03-2008</td>\n",
       "      <td>2000000.0</td>\n",
       "    </tr>\n",
       "    <tr>\n",
       "      <th>2</th>\n",
       "      <td>/organization/0ndine-biomedical-inc</td>\n",
       "      <td>Ondine Biomedical Inc.</td>\n",
       "      <td>http://ondinebio.com</td>\n",
       "      <td>Biotechnology</td>\n",
       "      <td>operating</td>\n",
       "      <td>CAN</td>\n",
       "      <td>01-01-1997</td>\n",
       "      <td>/funding-round/2b9d3ac293d5cdccbecff5c8cb0f327d</td>\n",
       "      <td>seed</td>\n",
       "      <td>11-09-2009</td>\n",
       "      <td>43360.0</td>\n",
       "    </tr>\n",
       "    <tr>\n",
       "      <th>3</th>\n",
       "      <td>/organization/0ndine-biomedical-inc</td>\n",
       "      <td>Ondine Biomedical Inc.</td>\n",
       "      <td>http://ondinebio.com</td>\n",
       "      <td>Biotechnology</td>\n",
       "      <td>operating</td>\n",
       "      <td>CAN</td>\n",
       "      <td>01-01-1997</td>\n",
       "      <td>/funding-round/954b9499724b946ad8c396a57a5f3b72</td>\n",
       "      <td>venture</td>\n",
       "      <td>21-12-2009</td>\n",
       "      <td>719491.0</td>\n",
       "    </tr>\n",
       "    <tr>\n",
       "      <th>4</th>\n",
       "      <td>/organization/0xdata</td>\n",
       "      <td>H2O.ai</td>\n",
       "      <td>http://h2o.ai/</td>\n",
       "      <td>Analytics</td>\n",
       "      <td>operating</td>\n",
       "      <td>USA</td>\n",
       "      <td>01-01-2011</td>\n",
       "      <td>/funding-round/383a9bd2c04f7038bb543ccef5ba3eae</td>\n",
       "      <td>seed</td>\n",
       "      <td>22-05-2013</td>\n",
       "      <td>3000000.0</td>\n",
       "    </tr>\n",
       "  </tbody>\n",
       "</table>\n",
       "</div>"
      ],
      "text/plain": [
       "                             permalink                    name  \\\n",
       "0               /organization/-qounter                :Qounter   \n",
       "1                /organization/0-6-com                 0-6.com   \n",
       "2  /organization/0ndine-biomedical-inc  Ondine Biomedical Inc.   \n",
       "3  /organization/0ndine-biomedical-inc  Ondine Biomedical Inc.   \n",
       "4                 /organization/0xdata                  H2O.ai   \n",
       "\n",
       "             homepage_url                                      category_list  \\\n",
       "0  http://www.qounter.com  Application Platforms|Real Time|Social Network...   \n",
       "1      http://www.0-6.com                                        Curated Web   \n",
       "2    http://ondinebio.com                                      Biotechnology   \n",
       "3    http://ondinebio.com                                      Biotechnology   \n",
       "4          http://h2o.ai/                                          Analytics   \n",
       "\n",
       "      status country_code  founded_at  \\\n",
       "0  operating          USA  04-09-2014   \n",
       "1  operating          CHN  01-01-2007   \n",
       "2  operating          CAN  01-01-1997   \n",
       "3  operating          CAN  01-01-1997   \n",
       "4  operating          USA  01-01-2011   \n",
       "\n",
       "                           funding_round_permalink funding_round_type  \\\n",
       "0  /funding-round/b44fbb94153f6cdef13083530bb48030               seed   \n",
       "1  /funding-round/5727accaeaa57461bd22a9bdd945382d            venture   \n",
       "2  /funding-round/2b9d3ac293d5cdccbecff5c8cb0f327d               seed   \n",
       "3  /funding-round/954b9499724b946ad8c396a57a5f3b72            venture   \n",
       "4  /funding-round/383a9bd2c04f7038bb543ccef5ba3eae               seed   \n",
       "\n",
       "    funded_at  raised_amount_usd  \n",
       "0  01-03-2014           700000.0  \n",
       "1  19-03-2008          2000000.0  \n",
       "2  11-09-2009            43360.0  \n",
       "3  21-12-2009           719491.0  \n",
       "4  22-05-2013          3000000.0  "
      ]
     },
     "execution_count": 33,
     "metadata": {},
     "output_type": "execute_result"
    }
   ],
   "source": [
    "#Printing Final Head values\n",
    "master_df.head()"
   ]
  },
  {
   "cell_type": "markdown",
   "metadata": {},
   "source": [
    "## filtering data having funding_round_type as 'seed', 'venture', 'angel', 'private_equity'"
   ]
  },
  {
   "cell_type": "code",
   "execution_count": 34,
   "metadata": {},
   "outputs": [],
   "source": [
    "lst = ['seed', 'venture','angel','private_equity']\n",
    "master_df = master_df[master_df['funding_round_type'].isin(lst)]"
   ]
  },
  {
   "cell_type": "code",
   "execution_count": 35,
   "metadata": {},
   "outputs": [
    {
     "data": {
      "text/plain": [
       "(60987, 11)"
      ]
     },
     "execution_count": 35,
     "metadata": {},
     "output_type": "execute_result"
    }
   ],
   "source": [
    "master_df.head()\n",
    "master_df.shape"
   ]
  },
  {
   "cell_type": "code",
   "execution_count": 36,
   "metadata": {},
   "outputs": [
    {
     "data": {
      "text/html": [
       "<div>\n",
       "<style scoped>\n",
       "    .dataframe tbody tr th:only-of-type {\n",
       "        vertical-align: middle;\n",
       "    }\n",
       "\n",
       "    .dataframe tbody tr th {\n",
       "        vertical-align: top;\n",
       "    }\n",
       "\n",
       "    .dataframe thead th {\n",
       "        text-align: right;\n",
       "    }\n",
       "</style>\n",
       "<table border=\"1\" class=\"dataframe\">\n",
       "  <thead>\n",
       "    <tr style=\"text-align: right;\">\n",
       "      <th>funding_round_type</th>\n",
       "      <th>angel</th>\n",
       "      <th>private_equity</th>\n",
       "      <th>seed</th>\n",
       "      <th>venture</th>\n",
       "    </tr>\n",
       "  </thead>\n",
       "  <tbody>\n",
       "    <tr>\n",
       "      <th>raised_amount_usd</th>\n",
       "      <td>932646.25</td>\n",
       "      <td>73296692.44</td>\n",
       "      <td>759309.27</td>\n",
       "      <td>12124393.61</td>\n",
       "    </tr>\n",
       "  </tbody>\n",
       "</table>\n",
       "</div>"
      ],
      "text/plain": [
       "funding_round_type      angel  private_equity       seed      venture\n",
       "raised_amount_usd   932646.25     73296692.44  759309.27  12124393.61"
      ]
     },
     "execution_count": 36,
     "metadata": {},
     "output_type": "execute_result"
    }
   ],
   "source": [
    "# average funding of different funding types\n",
    "round(pd.pivot_table(data = master_df, columns = 'funding_round_type',values = 'raised_amount_usd'),2)"
   ]
  },
  {
   "cell_type": "code",
   "execution_count": 37,
   "metadata": {},
   "outputs": [
    {
     "data": {
      "text/plain": [
       "'venture'"
      ]
     },
     "execution_count": 37,
     "metadata": {},
     "output_type": "execute_result"
    }
   ],
   "source": [
    "# most suitable funding typefor SPARK FUNDS\n",
    "(master_df['funding_round_type'][master_df['raised_amount_usd'].apply(lambda x : 5000000<= x <= 15000000)]).value_counts().index[0]"
   ]
  },
  {
   "cell_type": "markdown",
   "metadata": {},
   "source": [
    "# CHECKPOINT 3"
   ]
  },
  {
   "cell_type": "markdown",
   "metadata": {},
   "source": [
    "## filtering out data from master dataframe of companies that lie in countries having english as primary language"
   ]
  },
  {
   "cell_type": "code",
   "execution_count": 38,
   "metadata": {},
   "outputs": [],
   "source": [
    "master_df = master_df.merge(eng_speaking_countires,left_on = master_df['country_code'],right_on = eng_speaking_countires['Alpha-3 code'])"
   ]
  },
  {
   "cell_type": "code",
   "execution_count": 39,
   "metadata": {},
   "outputs": [
    {
     "data": {
      "text/html": [
       "<div>\n",
       "<style scoped>\n",
       "    .dataframe tbody tr th:only-of-type {\n",
       "        vertical-align: middle;\n",
       "    }\n",
       "\n",
       "    .dataframe tbody tr th {\n",
       "        vertical-align: top;\n",
       "    }\n",
       "\n",
       "    .dataframe thead th {\n",
       "        text-align: right;\n",
       "    }\n",
       "</style>\n",
       "<table border=\"1\" class=\"dataframe\">\n",
       "  <thead>\n",
       "    <tr style=\"text-align: right;\">\n",
       "      <th></th>\n",
       "      <th>key_0</th>\n",
       "      <th>permalink</th>\n",
       "      <th>name</th>\n",
       "      <th>homepage_url</th>\n",
       "      <th>category_list</th>\n",
       "      <th>status</th>\n",
       "      <th>country_code</th>\n",
       "      <th>founded_at</th>\n",
       "      <th>funding_round_permalink</th>\n",
       "      <th>funding_round_type</th>\n",
       "      <th>funded_at</th>\n",
       "      <th>raised_amount_usd</th>\n",
       "      <th>Alpha-3 code</th>\n",
       "      <th>Country</th>\n",
       "      <th>Nr</th>\n",
       "      <th>Population</th>\n",
       "      <th>Population1</th>\n",
       "      <th>Primary language?</th>\n",
       "      <th>Region</th>\n",
       "    </tr>\n",
       "  </thead>\n",
       "  <tbody>\n",
       "    <tr>\n",
       "      <th>0</th>\n",
       "      <td>USA</td>\n",
       "      <td>/organization/-qounter</td>\n",
       "      <td>:Qounter</td>\n",
       "      <td>http://www.qounter.com</td>\n",
       "      <td>Application Platforms|Real Time|Social Network...</td>\n",
       "      <td>operating</td>\n",
       "      <td>USA</td>\n",
       "      <td>04-09-2014</td>\n",
       "      <td>/funding-round/b44fbb94153f6cdef13083530bb48030</td>\n",
       "      <td>seed</td>\n",
       "      <td>01-03-2014</td>\n",
       "      <td>700000.0</td>\n",
       "      <td>USA</td>\n",
       "      <td>United States</td>\n",
       "      <td>4</td>\n",
       "      <td>328239523.0</td>\n",
       "      <td>NaN</td>\n",
       "      <td>Yes</td>\n",
       "      <td>North America/Oceania</td>\n",
       "    </tr>\n",
       "    <tr>\n",
       "      <th>1</th>\n",
       "      <td>USA</td>\n",
       "      <td>/organization/0xdata</td>\n",
       "      <td>H2O.ai</td>\n",
       "      <td>http://h2o.ai/</td>\n",
       "      <td>Analytics</td>\n",
       "      <td>operating</td>\n",
       "      <td>USA</td>\n",
       "      <td>01-01-2011</td>\n",
       "      <td>/funding-round/383a9bd2c04f7038bb543ccef5ba3eae</td>\n",
       "      <td>seed</td>\n",
       "      <td>22-05-2013</td>\n",
       "      <td>3000000.0</td>\n",
       "      <td>USA</td>\n",
       "      <td>United States</td>\n",
       "      <td>4</td>\n",
       "      <td>328239523.0</td>\n",
       "      <td>NaN</td>\n",
       "      <td>Yes</td>\n",
       "      <td>North America/Oceania</td>\n",
       "    </tr>\n",
       "    <tr>\n",
       "      <th>2</th>\n",
       "      <td>USA</td>\n",
       "      <td>/organization/0xdata</td>\n",
       "      <td>H2O.ai</td>\n",
       "      <td>http://h2o.ai/</td>\n",
       "      <td>Analytics</td>\n",
       "      <td>operating</td>\n",
       "      <td>USA</td>\n",
       "      <td>01-01-2011</td>\n",
       "      <td>/funding-round/3bb2ee4a2d89251a10aaa735b1180e44</td>\n",
       "      <td>venture</td>\n",
       "      <td>09-11-2015</td>\n",
       "      <td>20000000.0</td>\n",
       "      <td>USA</td>\n",
       "      <td>United States</td>\n",
       "      <td>4</td>\n",
       "      <td>328239523.0</td>\n",
       "      <td>NaN</td>\n",
       "      <td>Yes</td>\n",
       "      <td>North America/Oceania</td>\n",
       "    </tr>\n",
       "    <tr>\n",
       "      <th>3</th>\n",
       "      <td>USA</td>\n",
       "      <td>/organization/0xdata</td>\n",
       "      <td>H2O.ai</td>\n",
       "      <td>http://h2o.ai/</td>\n",
       "      <td>Analytics</td>\n",
       "      <td>operating</td>\n",
       "      <td>USA</td>\n",
       "      <td>01-01-2011</td>\n",
       "      <td>/funding-round/ae2a174c06517c2394aed45006322a7e</td>\n",
       "      <td>venture</td>\n",
       "      <td>03-01-2013</td>\n",
       "      <td>1700000.0</td>\n",
       "      <td>USA</td>\n",
       "      <td>United States</td>\n",
       "      <td>4</td>\n",
       "      <td>328239523.0</td>\n",
       "      <td>NaN</td>\n",
       "      <td>Yes</td>\n",
       "      <td>North America/Oceania</td>\n",
       "    </tr>\n",
       "    <tr>\n",
       "      <th>4</th>\n",
       "      <td>USA</td>\n",
       "      <td>/organization/0xdata</td>\n",
       "      <td>H2O.ai</td>\n",
       "      <td>http://h2o.ai/</td>\n",
       "      <td>Analytics</td>\n",
       "      <td>operating</td>\n",
       "      <td>USA</td>\n",
       "      <td>01-01-2011</td>\n",
       "      <td>/funding-round/e1cfcbe1bdf4c70277c5f29a3482f24e</td>\n",
       "      <td>venture</td>\n",
       "      <td>19-07-2014</td>\n",
       "      <td>8900000.0</td>\n",
       "      <td>USA</td>\n",
       "      <td>United States</td>\n",
       "      <td>4</td>\n",
       "      <td>328239523.0</td>\n",
       "      <td>NaN</td>\n",
       "      <td>Yes</td>\n",
       "      <td>North America/Oceania</td>\n",
       "    </tr>\n",
       "  </tbody>\n",
       "</table>\n",
       "</div>"
      ],
      "text/plain": [
       "  key_0               permalink      name            homepage_url  \\\n",
       "0   USA  /organization/-qounter  :Qounter  http://www.qounter.com   \n",
       "1   USA    /organization/0xdata    H2O.ai          http://h2o.ai/   \n",
       "2   USA    /organization/0xdata    H2O.ai          http://h2o.ai/   \n",
       "3   USA    /organization/0xdata    H2O.ai          http://h2o.ai/   \n",
       "4   USA    /organization/0xdata    H2O.ai          http://h2o.ai/   \n",
       "\n",
       "                                       category_list     status country_code  \\\n",
       "0  Application Platforms|Real Time|Social Network...  operating          USA   \n",
       "1                                          Analytics  operating          USA   \n",
       "2                                          Analytics  operating          USA   \n",
       "3                                          Analytics  operating          USA   \n",
       "4                                          Analytics  operating          USA   \n",
       "\n",
       "   founded_at                          funding_round_permalink  \\\n",
       "0  04-09-2014  /funding-round/b44fbb94153f6cdef13083530bb48030   \n",
       "1  01-01-2011  /funding-round/383a9bd2c04f7038bb543ccef5ba3eae   \n",
       "2  01-01-2011  /funding-round/3bb2ee4a2d89251a10aaa735b1180e44   \n",
       "3  01-01-2011  /funding-round/ae2a174c06517c2394aed45006322a7e   \n",
       "4  01-01-2011  /funding-round/e1cfcbe1bdf4c70277c5f29a3482f24e   \n",
       "\n",
       "  funding_round_type   funded_at  raised_amount_usd Alpha-3 code  \\\n",
       "0               seed  01-03-2014           700000.0          USA   \n",
       "1               seed  22-05-2013          3000000.0          USA   \n",
       "2            venture  09-11-2015         20000000.0          USA   \n",
       "3            venture  03-01-2013          1700000.0          USA   \n",
       "4            venture  19-07-2014          8900000.0          USA   \n",
       "\n",
       "         Country  Nr   Population Population1 Primary language?  \\\n",
       "0  United States   4  328239523.0         NaN               Yes   \n",
       "1  United States   4  328239523.0         NaN               Yes   \n",
       "2  United States   4  328239523.0         NaN               Yes   \n",
       "3  United States   4  328239523.0         NaN               Yes   \n",
       "4  United States   4  328239523.0         NaN               Yes   \n",
       "\n",
       "                  Region  \n",
       "0  North America/Oceania  \n",
       "1  North America/Oceania  \n",
       "2  North America/Oceania  \n",
       "3  North America/Oceania  \n",
       "4  North America/Oceania  "
      ]
     },
     "execution_count": 39,
     "metadata": {},
     "output_type": "execute_result"
    }
   ],
   "source": [
    "master_df.head()"
   ]
  },
  {
   "cell_type": "code",
   "execution_count": 40,
   "metadata": {},
   "outputs": [],
   "source": [
    "# dropping Unnecessary columns\n",
    "master_df.drop(['key_0','Alpha-3 code','Population','Population1','Primary language?','Region','Nr','Country','name','homepage_url','status','founded_at','funding_round_permalink','funded_at'],axis = 1,inplace = True)"
   ]
  },
  {
   "cell_type": "code",
   "execution_count": 41,
   "metadata": {},
   "outputs": [
    {
     "data": {
      "text/plain": [
       "Index(['permalink', 'category_list', 'country_code', 'funding_round_type',\n",
       "       'raised_amount_usd'],\n",
       "      dtype='object')"
      ]
     },
     "execution_count": 41,
     "metadata": {},
     "output_type": "execute_result"
    }
   ],
   "source": [
    "master_df.columns"
   ]
  },
  {
   "cell_type": "markdown",
   "metadata": {},
   "source": [
    "## filtering master_df to contain rows of 'venture' funding type"
   ]
  },
  {
   "cell_type": "code",
   "execution_count": 42,
   "metadata": {},
   "outputs": [],
   "source": [
    "master_df_venture = master_df[(master_df['funding_round_type'].apply(lambda x : x == 'venture')) & (master_df['raised_amount_usd'].apply(lambda x : 5000000<= x <= 15000000))]"
   ]
  },
  {
   "cell_type": "markdown",
   "metadata": {},
   "source": [
    "## finding the top 9 english speaking countries with maximum investment amount acheived"
   ]
  },
  {
   "cell_type": "code",
   "execution_count": 43,
   "metadata": {},
   "outputs": [],
   "source": [
    "inter_df = pd.pivot_table(data = master_df_venture , columns = 'funding_round_type',index = 'country_code', values = 'raised_amount_usd',aggfunc = 'sum')"
   ]
  },
  {
   "cell_type": "code",
   "execution_count": 44,
   "metadata": {},
   "outputs": [],
   "source": [
    "inter_df.sort_values(by = 'venture',ascending = False,inplace = True)"
   ]
  },
  {
   "cell_type": "code",
   "execution_count": 45,
   "metadata": {},
   "outputs": [],
   "source": [
    "lst_top9 = inter_df.index[0:9]"
   ]
  },
  {
   "cell_type": "code",
   "execution_count": 46,
   "metadata": {},
   "outputs": [],
   "source": [
    "lst_top9 = lst_top9.values.tolist()"
   ]
  },
  {
   "cell_type": "markdown",
   "metadata": {},
   "source": [
    "## top_9 ountries datframe containing top 9 countries and their investment"
   ]
  },
  {
   "cell_type": "code",
   "execution_count": 47,
   "metadata": {},
   "outputs": [
    {
     "data": {
      "text/html": [
       "<div>\n",
       "<style scoped>\n",
       "    .dataframe tbody tr th:only-of-type {\n",
       "        vertical-align: middle;\n",
       "    }\n",
       "\n",
       "    .dataframe tbody tr th {\n",
       "        vertical-align: top;\n",
       "    }\n",
       "\n",
       "    .dataframe thead th {\n",
       "        text-align: right;\n",
       "    }\n",
       "</style>\n",
       "<table border=\"1\" class=\"dataframe\">\n",
       "  <thead>\n",
       "    <tr style=\"text-align: right;\">\n",
       "      <th>funding_round_type</th>\n",
       "      <th>venture</th>\n",
       "    </tr>\n",
       "    <tr>\n",
       "      <th>country_code</th>\n",
       "      <th></th>\n",
       "    </tr>\n",
       "  </thead>\n",
       "  <tbody>\n",
       "    <tr>\n",
       "      <th>USA</th>\n",
       "      <td>8.919167e+10</td>\n",
       "    </tr>\n",
       "    <tr>\n",
       "      <th>CAN</th>\n",
       "      <td>5.585332e+09</td>\n",
       "    </tr>\n",
       "    <tr>\n",
       "      <th>IND</th>\n",
       "      <td>5.017396e+09</td>\n",
       "    </tr>\n",
       "    <tr>\n",
       "      <th>GBR</th>\n",
       "      <td>4.036404e+09</td>\n",
       "    </tr>\n",
       "    <tr>\n",
       "      <th>IRL</th>\n",
       "      <td>8.456803e+08</td>\n",
       "    </tr>\n",
       "    <tr>\n",
       "      <th>AUS</th>\n",
       "      <td>4.357500e+08</td>\n",
       "    </tr>\n",
       "    <tr>\n",
       "      <th>NGA</th>\n",
       "      <td>1.520000e+08</td>\n",
       "    </tr>\n",
       "    <tr>\n",
       "      <th>NZL</th>\n",
       "      <td>9.470000e+07</td>\n",
       "    </tr>\n",
       "    <tr>\n",
       "      <th>KEN</th>\n",
       "      <td>5.600000e+07</td>\n",
       "    </tr>\n",
       "  </tbody>\n",
       "</table>\n",
       "</div>"
      ],
      "text/plain": [
       "funding_round_type       venture\n",
       "country_code                    \n",
       "USA                 8.919167e+10\n",
       "CAN                 5.585332e+09\n",
       "IND                 5.017396e+09\n",
       "GBR                 4.036404e+09\n",
       "IRL                 8.456803e+08\n",
       "AUS                 4.357500e+08\n",
       "NGA                 1.520000e+08\n",
       "NZL                 9.470000e+07\n",
       "KEN                 5.600000e+07"
      ]
     },
     "execution_count": 47,
     "metadata": {},
     "output_type": "execute_result"
    }
   ],
   "source": [
    "top_9 = inter_df[inter_df.index.isin(lst_top9)]\n",
    "top_9"
   ]
  },
  {
   "cell_type": "markdown",
   "metadata": {},
   "source": [
    "## top 3 most investment friendly english speaking countries "
   ]
  },
  {
   "cell_type": "code",
   "execution_count": 48,
   "metadata": {},
   "outputs": [
    {
     "data": {
      "text/plain": [
       "['USA', 'CAN', 'IND']"
      ]
     },
     "execution_count": 48,
     "metadata": {},
     "output_type": "execute_result"
    }
   ],
   "source": [
    "top_3_countries = top_9.index[0:3].values.tolist()\n",
    "top_3_countries"
   ]
  },
  {
   "cell_type": "markdown",
   "metadata": {},
   "source": [
    "## filter out the dataframe with only top 3 most investment friendly english speaking countries "
   ]
  },
  {
   "cell_type": "code",
   "execution_count": 49,
   "metadata": {},
   "outputs": [
    {
     "data": {
      "text/html": [
       "<div>\n",
       "<style scoped>\n",
       "    .dataframe tbody tr th:only-of-type {\n",
       "        vertical-align: middle;\n",
       "    }\n",
       "\n",
       "    .dataframe tbody tr th {\n",
       "        vertical-align: top;\n",
       "    }\n",
       "\n",
       "    .dataframe thead th {\n",
       "        text-align: right;\n",
       "    }\n",
       "</style>\n",
       "<table border=\"1\" class=\"dataframe\">\n",
       "  <thead>\n",
       "    <tr style=\"text-align: right;\">\n",
       "      <th></th>\n",
       "      <th>permalink</th>\n",
       "      <th>category_list</th>\n",
       "      <th>country_code</th>\n",
       "      <th>funding_round_type</th>\n",
       "      <th>raised_amount_usd</th>\n",
       "    </tr>\n",
       "  </thead>\n",
       "  <tbody>\n",
       "    <tr>\n",
       "      <th>4</th>\n",
       "      <td>/organization/0xdata</td>\n",
       "      <td>Analytics</td>\n",
       "      <td>USA</td>\n",
       "      <td>venture</td>\n",
       "      <td>8900000.0</td>\n",
       "    </tr>\n",
       "    <tr>\n",
       "      <th>8</th>\n",
       "      <td>/organization/1-mainstream</td>\n",
       "      <td>Apps|Cable|Distribution|Software</td>\n",
       "      <td>USA</td>\n",
       "      <td>venture</td>\n",
       "      <td>5000000.0</td>\n",
       "    </tr>\n",
       "    <tr>\n",
       "      <th>30</th>\n",
       "      <td>/organization/128-technology</td>\n",
       "      <td>Service Providers|Technology</td>\n",
       "      <td>USA</td>\n",
       "      <td>venture</td>\n",
       "      <td>11999347.0</td>\n",
       "    </tr>\n",
       "    <tr>\n",
       "      <th>33</th>\n",
       "      <td>/organization/1366-technologies</td>\n",
       "      <td>Manufacturing</td>\n",
       "      <td>USA</td>\n",
       "      <td>venture</td>\n",
       "      <td>15000000.0</td>\n",
       "    </tr>\n",
       "    <tr>\n",
       "      <th>34</th>\n",
       "      <td>/organization/1366-technologies</td>\n",
       "      <td>Manufacturing</td>\n",
       "      <td>USA</td>\n",
       "      <td>venture</td>\n",
       "      <td>5000000.0</td>\n",
       "    </tr>\n",
       "  </tbody>\n",
       "</table>\n",
       "</div>"
      ],
      "text/plain": [
       "                          permalink                     category_list  \\\n",
       "4              /organization/0xdata                         Analytics   \n",
       "8        /organization/1-mainstream  Apps|Cable|Distribution|Software   \n",
       "30     /organization/128-technology      Service Providers|Technology   \n",
       "33  /organization/1366-technologies                     Manufacturing   \n",
       "34  /organization/1366-technologies                     Manufacturing   \n",
       "\n",
       "   country_code funding_round_type  raised_amount_usd  \n",
       "4           USA            venture          8900000.0  \n",
       "8           USA            venture          5000000.0  \n",
       "30          USA            venture         11999347.0  \n",
       "33          USA            venture         15000000.0  \n",
       "34          USA            venture          5000000.0  "
      ]
     },
     "execution_count": 49,
     "metadata": {},
     "output_type": "execute_result"
    }
   ],
   "source": [
    "master_df_venture = master_df_venture[master_df_venture['country_code'].isin(top_3_countries)]\n",
    "master_df_venture.head()"
   ]
  },
  {
   "cell_type": "markdown",
   "metadata": {},
   "source": [
    "# CHECKPOINT 4"
   ]
  },
  {
   "cell_type": "code",
   "execution_count": 50,
   "metadata": {},
   "outputs": [],
   "source": [
    "# as discussed in column category list first category before | is considered as the main category\n",
    "master_df_venture['category_list'] = master_df_venture['category_list'].apply(lambda x : x.split(\"|\")[0])"
   ]
  },
  {
   "cell_type": "markdown",
   "metadata": {},
   "source": [
    "## load mapping dataset"
   ]
  },
  {
   "cell_type": "code",
   "execution_count": 51,
   "metadata": {},
   "outputs": [],
   "source": [
    "mapping_df = pd.read_csv('mapping.csv')"
   ]
  },
  {
   "cell_type": "code",
   "execution_count": 52,
   "metadata": {},
   "outputs": [
    {
     "data": {
      "text/html": [
       "<div>\n",
       "<style scoped>\n",
       "    .dataframe tbody tr th:only-of-type {\n",
       "        vertical-align: middle;\n",
       "    }\n",
       "\n",
       "    .dataframe tbody tr th {\n",
       "        vertical-align: top;\n",
       "    }\n",
       "\n",
       "    .dataframe thead th {\n",
       "        text-align: right;\n",
       "    }\n",
       "</style>\n",
       "<table border=\"1\" class=\"dataframe\">\n",
       "  <thead>\n",
       "    <tr style=\"text-align: right;\">\n",
       "      <th></th>\n",
       "      <th>category_list</th>\n",
       "      <th>Automotive &amp; Sports</th>\n",
       "      <th>Blanks</th>\n",
       "      <th>Cleantech / Semiconductors</th>\n",
       "      <th>Entertainment</th>\n",
       "      <th>Health</th>\n",
       "      <th>Manufacturing</th>\n",
       "      <th>News, Search and Messaging</th>\n",
       "      <th>Others</th>\n",
       "      <th>Social, Finance, Analytics, Advertising</th>\n",
       "    </tr>\n",
       "  </thead>\n",
       "  <tbody>\n",
       "    <tr>\n",
       "      <th>0</th>\n",
       "      <td>NaN</td>\n",
       "      <td>0</td>\n",
       "      <td>1</td>\n",
       "      <td>0</td>\n",
       "      <td>0</td>\n",
       "      <td>0</td>\n",
       "      <td>0</td>\n",
       "      <td>0</td>\n",
       "      <td>0</td>\n",
       "      <td>0</td>\n",
       "    </tr>\n",
       "    <tr>\n",
       "      <th>1</th>\n",
       "      <td>3D</td>\n",
       "      <td>0</td>\n",
       "      <td>0</td>\n",
       "      <td>0</td>\n",
       "      <td>0</td>\n",
       "      <td>0</td>\n",
       "      <td>1</td>\n",
       "      <td>0</td>\n",
       "      <td>0</td>\n",
       "      <td>0</td>\n",
       "    </tr>\n",
       "    <tr>\n",
       "      <th>2</th>\n",
       "      <td>3D Printing</td>\n",
       "      <td>0</td>\n",
       "      <td>0</td>\n",
       "      <td>0</td>\n",
       "      <td>0</td>\n",
       "      <td>0</td>\n",
       "      <td>1</td>\n",
       "      <td>0</td>\n",
       "      <td>0</td>\n",
       "      <td>0</td>\n",
       "    </tr>\n",
       "    <tr>\n",
       "      <th>3</th>\n",
       "      <td>3D Technology</td>\n",
       "      <td>0</td>\n",
       "      <td>0</td>\n",
       "      <td>0</td>\n",
       "      <td>0</td>\n",
       "      <td>0</td>\n",
       "      <td>1</td>\n",
       "      <td>0</td>\n",
       "      <td>0</td>\n",
       "      <td>0</td>\n",
       "    </tr>\n",
       "    <tr>\n",
       "      <th>4</th>\n",
       "      <td>Accounting</td>\n",
       "      <td>0</td>\n",
       "      <td>0</td>\n",
       "      <td>0</td>\n",
       "      <td>0</td>\n",
       "      <td>0</td>\n",
       "      <td>0</td>\n",
       "      <td>0</td>\n",
       "      <td>0</td>\n",
       "      <td>1</td>\n",
       "    </tr>\n",
       "  </tbody>\n",
       "</table>\n",
       "</div>"
      ],
      "text/plain": [
       "   category_list  Automotive & Sports  Blanks  Cleantech / Semiconductors  \\\n",
       "0            NaN                    0       1                           0   \n",
       "1             3D                    0       0                           0   \n",
       "2    3D Printing                    0       0                           0   \n",
       "3  3D Technology                    0       0                           0   \n",
       "4     Accounting                    0       0                           0   \n",
       "\n",
       "   Entertainment  Health  Manufacturing  News, Search and Messaging  Others  \\\n",
       "0              0       0              0                           0       0   \n",
       "1              0       0              1                           0       0   \n",
       "2              0       0              1                           0       0   \n",
       "3              0       0              1                           0       0   \n",
       "4              0       0              0                           0       0   \n",
       "\n",
       "   Social, Finance, Analytics, Advertising  \n",
       "0                                        0  \n",
       "1                                        0  \n",
       "2                                        0  \n",
       "3                                        0  \n",
       "4                                        1  "
      ]
     },
     "execution_count": 52,
     "metadata": {},
     "output_type": "execute_result"
    }
   ],
   "source": [
    "mapping_df.head()"
   ]
  },
  {
   "cell_type": "markdown",
   "metadata": {},
   "source": [
    "## performing reverse on hot encoding in mapping dataframe "
   ]
  },
  {
   "cell_type": "code",
   "execution_count": 53,
   "metadata": {},
   "outputs": [],
   "source": [
    "def get_category(row):\n",
    "    for c in mapping_df.columns:\n",
    "        if row[c]==1:\n",
    "            return c\n",
    "\n",
    "mapping_df[\"main_sector\"] = mapping_df.apply(get_category,axis = 1)"
   ]
  },
  {
   "cell_type": "code",
   "execution_count": 54,
   "metadata": {},
   "outputs": [],
   "source": [
    "# dropping one hot encoded columns from mapping_df\n",
    "mapping_df.drop(['Automotive & Sports','Blanks','Cleantech / Semiconductors','Entertainment','Health','Manufacturing','News, Search and Messaging','Others','Social, Finance, Analytics, Advertising'],inplace = True,axis =1)"
   ]
  },
  {
   "cell_type": "code",
   "execution_count": 55,
   "metadata": {},
   "outputs": [],
   "source": [
    "mapping_df.dropna(inplace = True)"
   ]
  },
  {
   "cell_type": "markdown",
   "metadata": {},
   "source": [
    "## merging master_df to mapping_df to map category_list to main sector"
   ]
  },
  {
   "cell_type": "code",
   "execution_count": 56,
   "metadata": {},
   "outputs": [],
   "source": [
    "master_df_venture = master_df_venture.merge(right = mapping_df, on = 'category_list')"
   ]
  },
  {
   "cell_type": "code",
   "execution_count": 57,
   "metadata": {},
   "outputs": [
    {
     "data": {
      "text/html": [
       "<div>\n",
       "<style scoped>\n",
       "    .dataframe tbody tr th:only-of-type {\n",
       "        vertical-align: middle;\n",
       "    }\n",
       "\n",
       "    .dataframe tbody tr th {\n",
       "        vertical-align: top;\n",
       "    }\n",
       "\n",
       "    .dataframe thead th {\n",
       "        text-align: right;\n",
       "    }\n",
       "</style>\n",
       "<table border=\"1\" class=\"dataframe\">\n",
       "  <thead>\n",
       "    <tr style=\"text-align: right;\">\n",
       "      <th></th>\n",
       "      <th>permalink</th>\n",
       "      <th>category_list</th>\n",
       "      <th>country_code</th>\n",
       "      <th>funding_round_type</th>\n",
       "      <th>raised_amount_usd</th>\n",
       "      <th>main_sector</th>\n",
       "    </tr>\n",
       "  </thead>\n",
       "  <tbody>\n",
       "    <tr>\n",
       "      <th>0</th>\n",
       "      <td>/organization/1-mainstream</td>\n",
       "      <td>Apps</td>\n",
       "      <td>USA</td>\n",
       "      <td>venture</td>\n",
       "      <td>5000000.0</td>\n",
       "      <td>News, Search and Messaging</td>\n",
       "    </tr>\n",
       "    <tr>\n",
       "      <th>1</th>\n",
       "      <td>/organization/acorns-grow</td>\n",
       "      <td>Apps</td>\n",
       "      <td>USA</td>\n",
       "      <td>venture</td>\n",
       "      <td>6160000.0</td>\n",
       "      <td>News, Search and Messaging</td>\n",
       "    </tr>\n",
       "    <tr>\n",
       "      <th>2</th>\n",
       "      <td>/organization/aiotv-inc</td>\n",
       "      <td>Apps</td>\n",
       "      <td>USA</td>\n",
       "      <td>venture</td>\n",
       "      <td>8000000.0</td>\n",
       "      <td>News, Search and Messaging</td>\n",
       "    </tr>\n",
       "    <tr>\n",
       "      <th>3</th>\n",
       "      <td>/organization/aislebuyer</td>\n",
       "      <td>Apps</td>\n",
       "      <td>USA</td>\n",
       "      <td>venture</td>\n",
       "      <td>7500000.0</td>\n",
       "      <td>News, Search and Messaging</td>\n",
       "    </tr>\n",
       "    <tr>\n",
       "      <th>4</th>\n",
       "      <td>/organization/appconomy</td>\n",
       "      <td>Apps</td>\n",
       "      <td>USA</td>\n",
       "      <td>venture</td>\n",
       "      <td>9000000.0</td>\n",
       "      <td>News, Search and Messaging</td>\n",
       "    </tr>\n",
       "  </tbody>\n",
       "</table>\n",
       "</div>"
      ],
      "text/plain": [
       "                    permalink category_list country_code funding_round_type  \\\n",
       "0  /organization/1-mainstream          Apps          USA            venture   \n",
       "1   /organization/acorns-grow          Apps          USA            venture   \n",
       "2     /organization/aiotv-inc          Apps          USA            venture   \n",
       "3    /organization/aislebuyer          Apps          USA            venture   \n",
       "4     /organization/appconomy          Apps          USA            venture   \n",
       "\n",
       "   raised_amount_usd                 main_sector  \n",
       "0          5000000.0  News, Search and Messaging  \n",
       "1          6160000.0  News, Search and Messaging  \n",
       "2          8000000.0  News, Search and Messaging  \n",
       "3          7500000.0  News, Search and Messaging  \n",
       "4          9000000.0  News, Search and Messaging  "
      ]
     },
     "execution_count": 57,
     "metadata": {},
     "output_type": "execute_result"
    }
   ],
   "source": [
    "master_df_venture.head()"
   ]
  },
  {
   "cell_type": "code",
   "execution_count": 58,
   "metadata": {},
   "outputs": [
    {
     "data": {
      "text/plain": [
       "(10297, 6)"
      ]
     },
     "execution_count": 58,
     "metadata": {},
     "output_type": "execute_result"
    }
   ],
   "source": [
    "master_df_venture.shape"
   ]
  },
  {
   "cell_type": "code",
   "execution_count": 59,
   "metadata": {},
   "outputs": [
    {
     "data": {
      "text/plain": [
       "permalink             0\n",
       "category_list         0\n",
       "country_code          0\n",
       "funding_round_type    0\n",
       "raised_amount_usd     0\n",
       "main_sector           0\n",
       "dtype: int64"
      ]
     },
     "execution_count": 59,
     "metadata": {},
     "output_type": "execute_result"
    }
   ],
   "source": [
    "#check if there is any null data \n",
    "master_df_venture.isnull().sum()"
   ]
  },
  {
   "cell_type": "markdown",
   "metadata": {},
   "source": [
    "# CHECKPOINT 5"
   ]
  },
  {
   "cell_type": "markdown",
   "metadata": {},
   "source": [
    "## Creating Dataframe Namely D1, D2, D3 for USA, CAN,IND Respectively"
   ]
  },
  {
   "cell_type": "code",
   "execution_count": 88,
   "metadata": {},
   "outputs": [
    {
     "data": {
      "text/html": [
       "<div>\n",
       "<style scoped>\n",
       "    .dataframe tbody tr th:only-of-type {\n",
       "        vertical-align: middle;\n",
       "    }\n",
       "\n",
       "    .dataframe tbody tr th {\n",
       "        vertical-align: top;\n",
       "    }\n",
       "\n",
       "    .dataframe thead th {\n",
       "        text-align: right;\n",
       "    }\n",
       "</style>\n",
       "<table border=\"1\" class=\"dataframe\">\n",
       "  <thead>\n",
       "    <tr style=\"text-align: right;\">\n",
       "      <th></th>\n",
       "      <th>permalink</th>\n",
       "      <th>category_list</th>\n",
       "      <th>country_code</th>\n",
       "      <th>funding_round_type</th>\n",
       "      <th>raised_amount_usd</th>\n",
       "      <th>main_sector</th>\n",
       "      <th>count</th>\n",
       "      <th>sum</th>\n",
       "    </tr>\n",
       "  </thead>\n",
       "  <tbody>\n",
       "    <tr>\n",
       "      <th>0</th>\n",
       "      <td>/organization/1-mainstream</td>\n",
       "      <td>Apps</td>\n",
       "      <td>USA</td>\n",
       "      <td>venture</td>\n",
       "      <td>5000000.0</td>\n",
       "      <td>News, Search and Messaging</td>\n",
       "      <td>1374</td>\n",
       "      <td>1.213053e+10</td>\n",
       "    </tr>\n",
       "    <tr>\n",
       "      <th>1</th>\n",
       "      <td>/organization/acorns-grow</td>\n",
       "      <td>Apps</td>\n",
       "      <td>USA</td>\n",
       "      <td>venture</td>\n",
       "      <td>6160000.0</td>\n",
       "      <td>News, Search and Messaging</td>\n",
       "      <td>1374</td>\n",
       "      <td>1.213053e+10</td>\n",
       "    </tr>\n",
       "    <tr>\n",
       "      <th>2</th>\n",
       "      <td>/organization/aiotv-inc</td>\n",
       "      <td>Apps</td>\n",
       "      <td>USA</td>\n",
       "      <td>venture</td>\n",
       "      <td>8000000.0</td>\n",
       "      <td>News, Search and Messaging</td>\n",
       "      <td>1374</td>\n",
       "      <td>1.213053e+10</td>\n",
       "    </tr>\n",
       "    <tr>\n",
       "      <th>3</th>\n",
       "      <td>/organization/aislebuyer</td>\n",
       "      <td>Apps</td>\n",
       "      <td>USA</td>\n",
       "      <td>venture</td>\n",
       "      <td>7500000.0</td>\n",
       "      <td>News, Search and Messaging</td>\n",
       "      <td>1374</td>\n",
       "      <td>1.213053e+10</td>\n",
       "    </tr>\n",
       "    <tr>\n",
       "      <th>4</th>\n",
       "      <td>/organization/appconomy</td>\n",
       "      <td>Apps</td>\n",
       "      <td>USA</td>\n",
       "      <td>venture</td>\n",
       "      <td>9000000.0</td>\n",
       "      <td>News, Search and Messaging</td>\n",
       "      <td>1374</td>\n",
       "      <td>1.213053e+10</td>\n",
       "    </tr>\n",
       "  </tbody>\n",
       "</table>\n",
       "</div>"
      ],
      "text/plain": [
       "                    permalink category_list country_code funding_round_type  \\\n",
       "0  /organization/1-mainstream          Apps          USA            venture   \n",
       "1   /organization/acorns-grow          Apps          USA            venture   \n",
       "2     /organization/aiotv-inc          Apps          USA            venture   \n",
       "3    /organization/aislebuyer          Apps          USA            venture   \n",
       "4     /organization/appconomy          Apps          USA            venture   \n",
       "\n",
       "   raised_amount_usd                 main_sector  count           sum  \n",
       "0          5000000.0  News, Search and Messaging   1374  1.213053e+10  \n",
       "1          6160000.0  News, Search and Messaging   1374  1.213053e+10  \n",
       "2          8000000.0  News, Search and Messaging   1374  1.213053e+10  \n",
       "3          7500000.0  News, Search and Messaging   1374  1.213053e+10  \n",
       "4          9000000.0  News, Search and Messaging   1374  1.213053e+10  "
      ]
     },
     "execution_count": 88,
     "metadata": {},
     "output_type": "execute_result"
    }
   ],
   "source": [
    "D1 = master_df_venture[master_df_venture.country_code == top_3_countries[0]]\n",
    "u = D1.pivot_table(values = 'raised_amount_usd', index = 'main_sector',aggfunc = ('sum','count')).reset_index()\n",
    "D1 = D1.merge(u,on = 'main_sector')\n",
    "D1.head()"
   ]
  },
  {
   "cell_type": "code",
   "execution_count": 89,
   "metadata": {},
   "outputs": [
    {
     "data": {
      "text/html": [
       "<div>\n",
       "<style scoped>\n",
       "    .dataframe tbody tr th:only-of-type {\n",
       "        vertical-align: middle;\n",
       "    }\n",
       "\n",
       "    .dataframe tbody tr th {\n",
       "        vertical-align: top;\n",
       "    }\n",
       "\n",
       "    .dataframe thead th {\n",
       "        text-align: right;\n",
       "    }\n",
       "</style>\n",
       "<table border=\"1\" class=\"dataframe\">\n",
       "  <thead>\n",
       "    <tr style=\"text-align: right;\">\n",
       "      <th></th>\n",
       "      <th>permalink</th>\n",
       "      <th>category_list</th>\n",
       "      <th>country_code</th>\n",
       "      <th>funding_round_type</th>\n",
       "      <th>raised_amount_usd</th>\n",
       "      <th>main_sector</th>\n",
       "      <th>count</th>\n",
       "      <th>sum</th>\n",
       "    </tr>\n",
       "  </thead>\n",
       "  <tbody>\n",
       "    <tr>\n",
       "      <th>0</th>\n",
       "      <td>/organization/500px</td>\n",
       "      <td>Apps</td>\n",
       "      <td>CAN</td>\n",
       "      <td>venture</td>\n",
       "      <td>8800000.0</td>\n",
       "      <td>News, Search and Messaging</td>\n",
       "      <td>78</td>\n",
       "      <td>710028256.0</td>\n",
       "    </tr>\n",
       "    <tr>\n",
       "      <th>1</th>\n",
       "      <td>/organization/500px</td>\n",
       "      <td>Apps</td>\n",
       "      <td>CAN</td>\n",
       "      <td>venture</td>\n",
       "      <td>8800000.0</td>\n",
       "      <td>News, Search and Messaging</td>\n",
       "      <td>78</td>\n",
       "      <td>710028256.0</td>\n",
       "    </tr>\n",
       "    <tr>\n",
       "      <th>2</th>\n",
       "      <td>/organization/500px</td>\n",
       "      <td>Apps</td>\n",
       "      <td>CAN</td>\n",
       "      <td>venture</td>\n",
       "      <td>13000000.0</td>\n",
       "      <td>News, Search and Messaging</td>\n",
       "      <td>78</td>\n",
       "      <td>710028256.0</td>\n",
       "    </tr>\n",
       "    <tr>\n",
       "      <th>3</th>\n",
       "      <td>/organization/500px</td>\n",
       "      <td>Apps</td>\n",
       "      <td>CAN</td>\n",
       "      <td>venture</td>\n",
       "      <td>13000000.0</td>\n",
       "      <td>News, Search and Messaging</td>\n",
       "      <td>78</td>\n",
       "      <td>710028256.0</td>\n",
       "    </tr>\n",
       "    <tr>\n",
       "      <th>4</th>\n",
       "      <td>/organization/polar-me</td>\n",
       "      <td>Apps</td>\n",
       "      <td>CAN</td>\n",
       "      <td>venture</td>\n",
       "      <td>6000000.0</td>\n",
       "      <td>News, Search and Messaging</td>\n",
       "      <td>78</td>\n",
       "      <td>710028256.0</td>\n",
       "    </tr>\n",
       "  </tbody>\n",
       "</table>\n",
       "</div>"
      ],
      "text/plain": [
       "                permalink category_list country_code funding_round_type  \\\n",
       "0     /organization/500px          Apps          CAN            venture   \n",
       "1     /organization/500px          Apps          CAN            venture   \n",
       "2     /organization/500px          Apps          CAN            venture   \n",
       "3     /organization/500px          Apps          CAN            venture   \n",
       "4  /organization/polar-me          Apps          CAN            venture   \n",
       "\n",
       "   raised_amount_usd                 main_sector  count          sum  \n",
       "0          8800000.0  News, Search and Messaging     78  710028256.0  \n",
       "1          8800000.0  News, Search and Messaging     78  710028256.0  \n",
       "2         13000000.0  News, Search and Messaging     78  710028256.0  \n",
       "3         13000000.0  News, Search and Messaging     78  710028256.0  \n",
       "4          6000000.0  News, Search and Messaging     78  710028256.0  "
      ]
     },
     "execution_count": 89,
     "metadata": {},
     "output_type": "execute_result"
    }
   ],
   "source": [
    "D2 = master_df_venture[master_df_venture.country_code == top_3_countries[1]]\n",
    "c = D2.pivot_table(values = 'raised_amount_usd', index = 'main_sector',aggfunc = ('sum','count')).reset_index()\n",
    "D2 = D2.merge(c,on = 'main_sector')\n",
    "D2.head()"
   ]
  },
  {
   "cell_type": "code",
   "execution_count": 90,
   "metadata": {},
   "outputs": [
    {
     "data": {
      "text/html": [
       "<div>\n",
       "<style scoped>\n",
       "    .dataframe tbody tr th:only-of-type {\n",
       "        vertical-align: middle;\n",
       "    }\n",
       "\n",
       "    .dataframe tbody tr th {\n",
       "        vertical-align: top;\n",
       "    }\n",
       "\n",
       "    .dataframe thead th {\n",
       "        text-align: right;\n",
       "    }\n",
       "</style>\n",
       "<table border=\"1\" class=\"dataframe\">\n",
       "  <thead>\n",
       "    <tr style=\"text-align: right;\">\n",
       "      <th></th>\n",
       "      <th>permalink</th>\n",
       "      <th>category_list</th>\n",
       "      <th>country_code</th>\n",
       "      <th>funding_round_type</th>\n",
       "      <th>raised_amount_usd</th>\n",
       "      <th>main_sector</th>\n",
       "      <th>count</th>\n",
       "      <th>sum</th>\n",
       "    </tr>\n",
       "  </thead>\n",
       "  <tbody>\n",
       "    <tr>\n",
       "      <th>0</th>\n",
       "      <td>/organization/chillr-2</td>\n",
       "      <td>Apps</td>\n",
       "      <td>IND</td>\n",
       "      <td>venture</td>\n",
       "      <td>6000000.0</td>\n",
       "      <td>News, Search and Messaging</td>\n",
       "      <td>92</td>\n",
       "      <td>764337540.0</td>\n",
       "    </tr>\n",
       "    <tr>\n",
       "      <th>1</th>\n",
       "      <td>/organization/chillr-2</td>\n",
       "      <td>Apps</td>\n",
       "      <td>IND</td>\n",
       "      <td>venture</td>\n",
       "      <td>6000000.0</td>\n",
       "      <td>News, Search and Messaging</td>\n",
       "      <td>92</td>\n",
       "      <td>764337540.0</td>\n",
       "    </tr>\n",
       "    <tr>\n",
       "      <th>2</th>\n",
       "      <td>/organization/jugnoo</td>\n",
       "      <td>Apps</td>\n",
       "      <td>IND</td>\n",
       "      <td>venture</td>\n",
       "      <td>5000000.0</td>\n",
       "      <td>News, Search and Messaging</td>\n",
       "      <td>92</td>\n",
       "      <td>764337540.0</td>\n",
       "    </tr>\n",
       "    <tr>\n",
       "      <th>3</th>\n",
       "      <td>/organization/jugnoo</td>\n",
       "      <td>Apps</td>\n",
       "      <td>IND</td>\n",
       "      <td>venture</td>\n",
       "      <td>5000000.0</td>\n",
       "      <td>News, Search and Messaging</td>\n",
       "      <td>92</td>\n",
       "      <td>764337540.0</td>\n",
       "    </tr>\n",
       "    <tr>\n",
       "      <th>4</th>\n",
       "      <td>/organization/peppertap</td>\n",
       "      <td>Apps</td>\n",
       "      <td>IND</td>\n",
       "      <td>venture</td>\n",
       "      <td>10000000.0</td>\n",
       "      <td>News, Search and Messaging</td>\n",
       "      <td>92</td>\n",
       "      <td>764337540.0</td>\n",
       "    </tr>\n",
       "  </tbody>\n",
       "</table>\n",
       "</div>"
      ],
      "text/plain": [
       "                 permalink category_list country_code funding_round_type  \\\n",
       "0   /organization/chillr-2          Apps          IND            venture   \n",
       "1   /organization/chillr-2          Apps          IND            venture   \n",
       "2     /organization/jugnoo          Apps          IND            venture   \n",
       "3     /organization/jugnoo          Apps          IND            venture   \n",
       "4  /organization/peppertap          Apps          IND            venture   \n",
       "\n",
       "   raised_amount_usd                 main_sector  count          sum  \n",
       "0          6000000.0  News, Search and Messaging     92  764337540.0  \n",
       "1          6000000.0  News, Search and Messaging     92  764337540.0  \n",
       "2          5000000.0  News, Search and Messaging     92  764337540.0  \n",
       "3          5000000.0  News, Search and Messaging     92  764337540.0  \n",
       "4         10000000.0  News, Search and Messaging     92  764337540.0  "
      ]
     },
     "execution_count": 90,
     "metadata": {},
     "output_type": "execute_result"
    }
   ],
   "source": [
    "D3 = master_df_venture[master_df_venture.country_code == top_3_countries[2]]\n",
    "i = D3.pivot_table(values = 'raised_amount_usd', index = 'main_sector',aggfunc = ('sum','count')).reset_index()\n",
    "D3 = D3.merge(i,on = 'main_sector')\n",
    "D3.head()"
   ]
  },
  {
   "cell_type": "markdown",
   "metadata": {},
   "source": [
    "## Fetching values as required for analysis for each Country "
   ]
  },
  {
   "cell_type": "code",
   "execution_count": 91,
   "metadata": {},
   "outputs": [
    {
     "name": "stdout",
     "output_type": "stream",
     "text": [
      "shape of dataframe-: (9191, 8) \n",
      "\n",
      "\n",
      "count of investment in each sector-:\n",
      " Others                                     2400\n",
      "Cleantech / Semiconductors                 1730\n",
      "Social, Finance, Analytics, Advertising    1722\n",
      "News, Search and Messaging                 1374\n",
      "Health                                      682\n",
      "Manufacturing                               633\n",
      "Entertainment                               515\n",
      "Automotive & Sports                         135\n",
      "Name: main_sector, dtype: int64 \n",
      "\n",
      "\n",
      "Total Investment in USA -: 81959054526.0 \n",
      "\n",
      "\n"
     ]
    },
    {
     "data": {
      "text/html": [
       "<div>\n",
       "<style scoped>\n",
       "    .dataframe tbody tr th:only-of-type {\n",
       "        vertical-align: middle;\n",
       "    }\n",
       "\n",
       "    .dataframe tbody tr th {\n",
       "        vertical-align: top;\n",
       "    }\n",
       "\n",
       "    .dataframe thead th {\n",
       "        text-align: right;\n",
       "    }\n",
       "</style>\n",
       "<table border=\"1\" class=\"dataframe\">\n",
       "  <thead>\n",
       "    <tr style=\"text-align: right;\">\n",
       "      <th>main_sector</th>\n",
       "      <th>Automotive &amp; Sports</th>\n",
       "      <th>Cleantech / Semiconductors</th>\n",
       "      <th>Entertainment</th>\n",
       "      <th>Health</th>\n",
       "      <th>Manufacturing</th>\n",
       "      <th>News, Search and Messaging</th>\n",
       "      <th>Others</th>\n",
       "      <th>Social, Finance, Analytics, Advertising</th>\n",
       "    </tr>\n",
       "  </thead>\n",
       "  <tbody>\n",
       "    <tr>\n",
       "      <th>raised_amount_usd</th>\n",
       "      <td>1.178135e+09</td>\n",
       "      <td>1.591940e+10</td>\n",
       "      <td>4.439971e+09</td>\n",
       "      <td>6.233193e+09</td>\n",
       "      <td>5.696699e+09</td>\n",
       "      <td>1.213053e+10</td>\n",
       "      <td>2.136362e+10</td>\n",
       "      <td>1.499751e+10</td>\n",
       "    </tr>\n",
       "  </tbody>\n",
       "</table>\n",
       "</div>"
      ],
      "text/plain": [
       "main_sector        Automotive & Sports  Cleantech / Semiconductors  \\\n",
       "raised_amount_usd         1.178135e+09                1.591940e+10   \n",
       "\n",
       "main_sector        Entertainment        Health  Manufacturing  \\\n",
       "raised_amount_usd   4.439971e+09  6.233193e+09   5.696699e+09   \n",
       "\n",
       "main_sector        News, Search and Messaging        Others  \\\n",
       "raised_amount_usd                1.213053e+10  2.136362e+10   \n",
       "\n",
       "main_sector        Social, Finance, Analytics, Advertising  \n",
       "raised_amount_usd                             1.499751e+10  "
      ]
     },
     "execution_count": 91,
     "metadata": {},
     "output_type": "execute_result"
    }
   ],
   "source": [
    "print('shape of dataframe-:', D1.shape,\"\\n\\n\")\n",
    "print(\"count of investment in each sector-:\\n\",D1.main_sector.value_counts(),'\\n\\n')\n",
    "print(\"Total Investment in USA -:\" ,D1.raised_amount_usd.sum(),\"\\n\\n\")\n",
    "pd.pivot_table(data = D1,columns = 'main_sector', values ='raised_amount_usd', aggfunc = 'sum')"
   ]
  },
  {
   "cell_type": "code",
   "execution_count": 92,
   "metadata": {},
   "outputs": [
    {
     "name": "stdout",
     "output_type": "stream",
     "text": [
      "shape of dataframe-: (594, 8) \n",
      "\n",
      "\n",
      "count of investment in each sector-:\n",
      " Others                                     166\n",
      "Cleantech / Semiconductors                 154\n",
      "Social, Finance, Analytics, Advertising     92\n",
      "News, Search and Messaging                  78\n",
      "Manufacturing                               42\n",
      "Entertainment                               30\n",
      "Health                                      28\n",
      "Automotive & Sports                          4\n",
      "Name: main_sector, dtype: int64 \n",
      "\n",
      "\n",
      "Total Investment in IND -: 5194331532.0 \n",
      "\n",
      "\n"
     ]
    },
    {
     "data": {
      "text/html": [
       "<div>\n",
       "<style scoped>\n",
       "    .dataframe tbody tr th:only-of-type {\n",
       "        vertical-align: middle;\n",
       "    }\n",
       "\n",
       "    .dataframe tbody tr th {\n",
       "        vertical-align: top;\n",
       "    }\n",
       "\n",
       "    .dataframe thead th {\n",
       "        text-align: right;\n",
       "    }\n",
       "</style>\n",
       "<table border=\"1\" class=\"dataframe\">\n",
       "  <thead>\n",
       "    <tr style=\"text-align: right;\">\n",
       "      <th>main_sector</th>\n",
       "      <th>Automotive &amp; Sports</th>\n",
       "      <th>Cleantech / Semiconductors</th>\n",
       "      <th>Entertainment</th>\n",
       "      <th>Health</th>\n",
       "      <th>Manufacturing</th>\n",
       "      <th>News, Search and Messaging</th>\n",
       "      <th>Others</th>\n",
       "      <th>Social, Finance, Analytics, Advertising</th>\n",
       "    </tr>\n",
       "  </thead>\n",
       "  <tbody>\n",
       "    <tr>\n",
       "      <th>raised_amount_usd</th>\n",
       "      <td>30000000.0</td>\n",
       "      <td>1.438622e+09</td>\n",
       "      <td>218744136.0</td>\n",
       "      <td>252774834.0</td>\n",
       "      <td>338531408.0</td>\n",
       "      <td>710028256.0</td>\n",
       "      <td>1.414407e+09</td>\n",
       "      <td>791224418.0</td>\n",
       "    </tr>\n",
       "  </tbody>\n",
       "</table>\n",
       "</div>"
      ],
      "text/plain": [
       "main_sector        Automotive & Sports  Cleantech / Semiconductors  \\\n",
       "raised_amount_usd           30000000.0                1.438622e+09   \n",
       "\n",
       "main_sector        Entertainment       Health  Manufacturing  \\\n",
       "raised_amount_usd    218744136.0  252774834.0    338531408.0   \n",
       "\n",
       "main_sector        News, Search and Messaging        Others  \\\n",
       "raised_amount_usd                 710028256.0  1.414407e+09   \n",
       "\n",
       "main_sector        Social, Finance, Analytics, Advertising  \n",
       "raised_amount_usd                              791224418.0  "
      ]
     },
     "execution_count": 92,
     "metadata": {},
     "output_type": "execute_result"
    }
   ],
   "source": [
    "print('shape of dataframe-:', D2.shape,\"\\n\\n\")\n",
    "print(\"count of investment in each sector-:\\n\",D2.main_sector.value_counts(),'\\n\\n')\n",
    "print(\"Total Investment in IND -:\" ,D2.raised_amount_usd.sum(),\"\\n\\n\")\n",
    "pd.pivot_table(data = D2,columns = 'main_sector', values ='raised_amount_usd', aggfunc = 'sum')"
   ]
  },
  {
   "cell_type": "code",
   "execution_count": 93,
   "metadata": {},
   "outputs": [
    {
     "name": "stdout",
     "output_type": "stream",
     "text": [
      "shape of dataframe-: (512, 8) \n",
      "\n",
      "\n",
      "count of investment in each sector-:\n",
      " Others                                     198\n",
      "News, Search and Messaging                  92\n",
      "Social, Finance, Analytics, Advertising     54\n",
      "Entertainment                               52\n",
      "Manufacturing                               34\n",
      "Cleantech / Semiconductors                  34\n",
      "Automotive & Sports                         24\n",
      "Health                                      24\n",
      "Name: main_sector, dtype: int64 \n",
      "\n",
      "\n",
      "Total Investment in CAN -: 4552863554.0 \n",
      "\n",
      "\n"
     ]
    },
    {
     "data": {
      "text/html": [
       "<div>\n",
       "<style scoped>\n",
       "    .dataframe tbody tr th:only-of-type {\n",
       "        vertical-align: middle;\n",
       "    }\n",
       "\n",
       "    .dataframe tbody tr th {\n",
       "        vertical-align: top;\n",
       "    }\n",
       "\n",
       "    .dataframe thead th {\n",
       "        text-align: right;\n",
       "    }\n",
       "</style>\n",
       "<table border=\"1\" class=\"dataframe\">\n",
       "  <thead>\n",
       "    <tr style=\"text-align: right;\">\n",
       "      <th>main_sector</th>\n",
       "      <th>Automotive &amp; Sports</th>\n",
       "      <th>Cleantech / Semiconductors</th>\n",
       "      <th>Entertainment</th>\n",
       "      <th>Health</th>\n",
       "      <th>Manufacturing</th>\n",
       "      <th>News, Search and Messaging</th>\n",
       "      <th>Others</th>\n",
       "      <th>Social, Finance, Analytics, Advertising</th>\n",
       "    </tr>\n",
       "  </thead>\n",
       "  <tbody>\n",
       "    <tr>\n",
       "      <th>raised_amount_usd</th>\n",
       "      <td>243800000.0</td>\n",
       "      <td>287700000.0</td>\n",
       "      <td>434300000.0</td>\n",
       "      <td>211720000.0</td>\n",
       "      <td>313100000.0</td>\n",
       "      <td>764337540.0</td>\n",
       "      <td>1.806819e+09</td>\n",
       "      <td>491087000.0</td>\n",
       "    </tr>\n",
       "  </tbody>\n",
       "</table>\n",
       "</div>"
      ],
      "text/plain": [
       "main_sector        Automotive & Sports  Cleantech / Semiconductors  \\\n",
       "raised_amount_usd          243800000.0                 287700000.0   \n",
       "\n",
       "main_sector        Entertainment       Health  Manufacturing  \\\n",
       "raised_amount_usd    434300000.0  211720000.0    313100000.0   \n",
       "\n",
       "main_sector        News, Search and Messaging        Others  \\\n",
       "raised_amount_usd                 764337540.0  1.806819e+09   \n",
       "\n",
       "main_sector        Social, Finance, Analytics, Advertising  \n",
       "raised_amount_usd                              491087000.0  "
      ]
     },
     "execution_count": 93,
     "metadata": {},
     "output_type": "execute_result"
    }
   ],
   "source": [
    "print('shape of dataframe-:', D3.shape,\"\\n\\n\")\n",
    "print(\"count of investment in each sector-:\\n\",D3.main_sector.value_counts(),'\\n\\n')\n",
    "print(\"Total Investment in CAN -:\" ,D3.raised_amount_usd.sum(),\"\\n\\n\")\n",
    "pd.pivot_table(data = D3,columns = 'main_sector', values ='raised_amount_usd', aggfunc = 'sum')"
   ]
  },
  {
   "cell_type": "markdown",
   "metadata": {},
   "source": [
    "## Finding out company in which max funds are invested"
   ]
  },
  {
   "cell_type": "code",
   "execution_count": 94,
   "metadata": {},
   "outputs": [],
   "source": [
    "temp_df = pd.pivot_table(data = D1, index = 'permalink',columns = 'main_sector',values = 'raised_amount_usd', aggfunc = 'sum')"
   ]
  },
  {
   "cell_type": "code",
   "execution_count": 95,
   "metadata": {},
   "outputs": [
    {
     "data": {
      "text/plain": [
       "Index(['/organization/virtustream'], dtype='object', name='permalink')"
      ]
     },
     "execution_count": 95,
     "metadata": {},
     "output_type": "execute_result"
    }
   ],
   "source": [
    "temp_df[temp_df['Others'].apply(lambda x: x == temp_df['Others'].max())].index"
   ]
  },
  {
   "cell_type": "code",
   "execution_count": 96,
   "metadata": {},
   "outputs": [],
   "source": [
    "temp_df = pd.pivot_table(data = D2, index = 'permalink',columns = 'main_sector',values = 'raised_amount_usd', aggfunc = 'sum')"
   ]
  },
  {
   "cell_type": "code",
   "execution_count": 97,
   "metadata": {},
   "outputs": [
    {
     "data": {
      "text/plain": [
       "Index(['/organization/quickplay-media'], dtype='object', name='permalink')"
      ]
     },
     "execution_count": 97,
     "metadata": {},
     "output_type": "execute_result"
    }
   ],
   "source": [
    "temp_df[temp_df['Others'].apply(lambda x: x == temp_df['Others'].max())].index"
   ]
  },
  {
   "cell_type": "code",
   "execution_count": 98,
   "metadata": {},
   "outputs": [],
   "source": [
    "temp_df = pd.pivot_table(data = D3, index = 'permalink',columns = 'main_sector',values = 'raised_amount_usd', aggfunc = 'sum')"
   ]
  },
  {
   "cell_type": "code",
   "execution_count": 99,
   "metadata": {},
   "outputs": [
    {
     "data": {
      "text/plain": [
       "Index(['/organization/firstcry-com'], dtype='object', name='permalink')"
      ]
     },
     "execution_count": 99,
     "metadata": {},
     "output_type": "execute_result"
    }
   ],
   "source": [
    "temp_df[temp_df['Others'].apply(lambda x: x == temp_df['Others'].max())].index"
   ]
  },
  {
   "cell_type": "markdown",
   "metadata": {},
   "source": [
    "## Finding out company in which secondbest funds are invested"
   ]
  },
  {
   "cell_type": "code",
   "execution_count": 100,
   "metadata": {},
   "outputs": [],
   "source": [
    "temp_df = pd.pivot_table(data = D1, index = 'permalink',columns = 'main_sector',values = 'raised_amount_usd', aggfunc = 'sum')"
   ]
  },
  {
   "cell_type": "code",
   "execution_count": 101,
   "metadata": {},
   "outputs": [
    {
     "data": {
      "text/plain": [
       "Index(['/organization/biodesix'], dtype='object', name='permalink')"
      ]
     },
     "execution_count": 101,
     "metadata": {},
     "output_type": "execute_result"
    }
   ],
   "source": [
    "temp_df[temp_df['Cleantech / Semiconductors'].apply(lambda x: x == temp_df['Cleantech / Semiconductors'].max())].index"
   ]
  },
  {
   "cell_type": "code",
   "execution_count": 102,
   "metadata": {},
   "outputs": [],
   "source": [
    "temp_df = pd.pivot_table(data = D2, index = 'permalink',columns = 'main_sector',values = 'raised_amount_usd', aggfunc = 'sum')"
   ]
  },
  {
   "cell_type": "code",
   "execution_count": 103,
   "metadata": {},
   "outputs": [
    {
     "data": {
      "text/plain": [
       "Index(['/organization/fresco-microchip'], dtype='object', name='permalink')"
      ]
     },
     "execution_count": 103,
     "metadata": {},
     "output_type": "execute_result"
    }
   ],
   "source": [
    "temp_df[temp_df['Cleantech / Semiconductors'].apply(lambda x: x == temp_df['Cleantech / Semiconductors'].max())].index"
   ]
  },
  {
   "cell_type": "code",
   "execution_count": 104,
   "metadata": {},
   "outputs": [],
   "source": [
    "temp_df = pd.pivot_table(data = D3, index = 'permalink',columns = 'main_sector',values = 'raised_amount_usd', aggfunc = 'sum')"
   ]
  },
  {
   "cell_type": "code",
   "execution_count": 105,
   "metadata": {},
   "outputs": [
    {
     "data": {
      "text/plain": [
       "Index(['/organization/gupshup-technology-india-pvt-ltd'], dtype='object', name='permalink')"
      ]
     },
     "execution_count": 105,
     "metadata": {},
     "output_type": "execute_result"
    }
   ],
   "source": [
    "temp_df[temp_df['News, Search and Messaging'].apply(lambda x: x == temp_df['News, Search and Messaging'].max())].index"
   ]
  },
  {
   "cell_type": "markdown",
   "metadata": {},
   "source": [
    "# CHECKPOINT 6"
   ]
  },
  {
   "cell_type": "code",
   "execution_count": 106,
   "metadata": {},
   "outputs": [],
   "source": [
    "test_df = master_df[(master_df['funding_round_type'] != 'angel') & master_df['raised_amount_usd'].apply(lambda x : 5000000.0<=x<=15000000.0) ]"
   ]
  },
  {
   "cell_type": "code",
   "execution_count": 107,
   "metadata": {},
   "outputs": [
    {
     "data": {
      "image/png": "[encoded data removed]",
      "text/plain": [
       "<Figure size 1080x864 with 2 Axes>"
      ]
     },
     "metadata": {
      "needs_background": "light"
     },
     "output_type": "display_data"
    }
   ],
   "source": [
    "plt.figure(figsize=(15,12))\n",
    "plt.title(\"TOTAL SALES AND COUNT OF VENTURE, SEED, PRIVATE EQUITY\")\n",
    "plt.subplot(131)\n",
    "plt.title(\"TOTAL SALES OF VENTURE, SEED, PRIVATE EQUITY\")\n",
    "plt.yscale('log')\n",
    "plt.xticks(rotation=45)\n",
    "sb.barplot(x = test_df['funding_round_type'],y = test_df['raised_amount_usd'],ci = False)\n",
    "plt.subplot(133)\n",
    "plt.title(\"TOTAL COUNT OF VENTURE, SEED, PRIVATE EQUITY\")\n",
    "plt.yscale('log')\n",
    "plt.xticks(rotation=45)\n",
    "sb.countplot(x = test_df['funding_round_type'])\n",
    "plt.show()"
   ]
  },
  {
   "cell_type": "code",
   "execution_count": 108,
   "metadata": {},
   "outputs": [
    {
     "data": {
      "text/plain": [
       "<matplotlib.axes._subplots.AxesSubplot at 0x9c213cd0b8>"
      ]
     },
     "execution_count": 108,
     "metadata": {},
     "output_type": "execute_result"
    },
    {
     "data": {
      "image/png": "[encoded data removed]",
      "text/plain": [
       "<Figure size 1080x504 with 1 Axes>"
      ]
     },
     "metadata": {
      "needs_background": "light"
     },
     "output_type": "display_data"
    }
   ],
   "source": [
    "plt.figure(figsize = (15,7))\n",
    "plt.xticks(rotation = 45)\n",
    "plt.yscale('log')\n",
    "plt.title(\" TOP 9 COUNTRIES SALE OF VENTURE TYPE\")\n",
    "sb.barplot(x = top_9.index, y = top_9['venture'])"
   ]
  },
  {
   "cell_type": "code",
   "execution_count": 109,
   "metadata": {},
   "outputs": [],
   "source": [
    "usa_top3_sector = ['Others','Cleantech / Semiconductors','Social, Finance, Analytics, Advertising']\n",
    "can_top3_sector = ['Others','Cleantech / Semiconductors','Social, Finance, Analytics, Advertising']\n",
    "ind_top3_sector = ['Others','News, Search and Messaging','Social, Finance, Analytics, Advertising']"
   ]
  },
  {
   "cell_type": "code",
   "execution_count": 110,
   "metadata": {},
   "outputs": [],
   "source": [
    "D1_new = D1[D1['main_sector'].isin(usa_top3_sector)]\n",
    "D2_new = D2[D2['main_sector'].isin(can_top3_sector)]\n",
    "D3_new = D3[D3['main_sector'].isin(ind_top3_sector)]"
   ]
  },
  {
   "cell_type": "code",
   "execution_count": 111,
   "metadata": {},
   "outputs": [
    {
     "data": {
      "image/png": "[encoded data removed]",
      "text/plain": [
       "<Figure size 1440x504 with 3 Axes>"
      ]
     },
     "metadata": {
      "needs_background": "light"
     },
     "output_type": "display_data"
    }
   ],
   "source": [
    "plt.figure(figsize = (20,7))\n",
    "# FOR USA\n",
    "plt.subplot(131)\n",
    "plt.title('USA')\n",
    "plt.xticks(rotation = 90)\n",
    "sb.countplot(x='main_sector',data =D1_new)\n",
    "\n",
    "#FOR CANADA\n",
    "plt.subplot(132)\n",
    "plt.title('CANADA')\n",
    "plt.xticks(rotation = 90)\n",
    "sb.countplot(x='main_sector',data =D2_new)\n",
    "\n",
    "\n",
    "#FOR INDIA\n",
    "plt.subplot(133)\n",
    "plt.title('INDIA')\n",
    "plt.xticks(rotation = 90)\n",
    "sb.countplot(x='main_sector',data =D3_new)\n",
    "\n",
    "plt.show()"
   ]
  },
  {
   "cell_type": "code",
   "execution_count": null,
   "metadata": {},
   "outputs": [],
   "source": []
  },
  {
   "cell_type": "code",
   "execution_count": null,
   "metadata": {},
   "outputs": [],
   "source": []
  }
 ],
 "metadata": {
  "kernelspec": {
   "display_name": "Python 3",
   "language": "python",
   "name": "python3"
  },
  "language_info": {
   "codemirror_mode": {
    "name": "ipython",
    "version": 3
   },
   "file_extension": ".py",
   "mimetype": "text/x-python",
   "name": "python",
   "nbconvert_exporter": "python",
   "pygments_lexer": "ipython3",
   "version": "3.7.3"
  }
 },
 "nbformat": 4,
 "nbformat_minor": 2
}
